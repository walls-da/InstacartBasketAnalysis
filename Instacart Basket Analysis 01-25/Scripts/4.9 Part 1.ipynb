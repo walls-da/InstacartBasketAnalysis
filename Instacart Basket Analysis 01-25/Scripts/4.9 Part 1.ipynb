{
 "cells": [
  {
   "cell_type": "markdown",
   "id": "329ee726-833f-4783-bfca-d495cce6d6e4",
   "metadata": {},
   "source": [
    "# 4.9 Visualizing Data Part 1"
   ]
  },
  {
   "cell_type": "markdown",
   "id": "ffdecc5f-cf65-4052-81a8-af92d6ce6839",
   "metadata": {},
   "source": [
    "#### Points of this Script:\n",
    "1. Imports\n",
    "2. Data wrangling\n",
    "3. Consistency checks\n",
    "4. Combining dataframes\n",
    "5. Addressing Memory\n",
    "6. Exports"
   ]
  },
  {
   "cell_type": "markdown",
   "id": "f6dd258a-ebb8-4e32-a57c-48f789c56c93",
   "metadata": {},
   "source": [
    "### 1. Imports"
   ]
  },
  {
   "cell_type": "code",
   "execution_count": null,
   "id": "dde19d12-7be6-4101-bb46-4931cbf7b1ed",
   "metadata": {},
   "outputs": [],
   "source": [
    "# Importing libraries\n",
    "\n",
    "import pandas as pd\n",
    "import numpy as np\n",
    "import os\n",
    "import matplotlib.pyplot as plt\n",
    "import seaborn as sns\n",
    "import scipy"
   ]
  },
  {
   "cell_type": "code",
   "execution_count": null,
   "id": "0c1bb76e-cc1f-48b6-a14e-90f38932fba6",
   "metadata": {},
   "outputs": [],
   "source": [
    "# Importing data frame\n",
    "\n",
    "path = r'C:\\Users\\walls\\Documents\\Coding\\Data Analysis\\CareerFoundry\\Data Immersion A4\\Instacart Basket Analysis 01-25'\n",
    "df_customer = pd.read_csv(os.path.join(path, 'Data', 'Original Data', 'customers.csv'), index_col = False)"
   ]
  },
  {
   "cell_type": "markdown",
   "id": "fad34c8c-366e-4c80-9f7e-534fad48482d",
   "metadata": {},
   "source": [
    "### 2. Data Wrangling"
   ]
  },
  {
   "cell_type": "code",
   "execution_count": null,
   "id": "7c17ca38-cea9-4714-aeae-56ba64ab872a",
   "metadata": {},
   "outputs": [],
   "source": [
    "df_customer.head()"
   ]
  },
  {
   "cell_type": "code",
   "execution_count": null,
   "id": "04bb097a-f9e6-4e67-b7e5-4d43ccead4bc",
   "metadata": {},
   "outputs": [],
   "source": [
    "df_customer.shape"
   ]
  },
  {
   "cell_type": "code",
   "execution_count": null,
   "id": "738a00ee-af99-42b7-9460-761008d5b7ba",
   "metadata": {},
   "outputs": [],
   "source": [
    "df_customer.tail()"
   ]
  },
  {
   "cell_type": "markdown",
   "id": "b643e0ea-480c-4547-adde-13d56c31e3f5",
   "metadata": {},
   "source": [
    "##### Observations:\n",
    "\n",
    "1. \"surnam\" - misspelled\n",
    "2. \"STATE\" - all caps\n",
    "3. \"Age\" \"First Name\" \"Gender- cap\n",
    "4. \"n_dependants\" vague"
   ]
  },
  {
   "cell_type": "code",
   "execution_count": null,
   "id": "7b4498f5-b91e-45d1-b863-be9be87dc6be",
   "metadata": {},
   "outputs": [],
   "source": [
    "df_customer.info()"
   ]
  },
  {
   "cell_type": "markdown",
   "id": "b8cc6665-6c6c-44c3-8b8f-658dc275c108",
   "metadata": {},
   "source": [
    "##### Observations:\n",
    "1. user_id is numeric, though it should act as a name/object\n",
    "2. 10 columns, 206209 rows"
   ]
  },
  {
   "cell_type": "code",
   "execution_count": null,
   "id": "9ea0024f-7432-4735-8263-4476c42c8a47",
   "metadata": {},
   "outputs": [],
   "source": [
    "# Changing column names and applying lower case lettering\n",
    "\n",
    "df_customer = df_customer.rename(columns=str.lower)\n",
    "df_customer.rename(columns = {'first name' : 'first_name', 'surnam' : 'surname', 'Gender' : 'gender', 'STATE' : 'state', 'Age' : 'age', 'n_dependants' : 'num_dependants', 'fam_status' : 'marriage_status'}, inplace = True)"
   ]
  },
  {
   "cell_type": "code",
   "execution_count": null,
   "id": "1481b762-a1c8-4041-b4f7-29a5bbb3a015",
   "metadata": {},
   "outputs": [],
   "source": [
    "df_customer.head()"
   ]
  },
  {
   "cell_type": "code",
   "execution_count": null,
   "id": "52b960be-eed1-448e-9b43-6fd00ac1f2ee",
   "metadata": {},
   "outputs": [],
   "source": [
    "# Changing \"user_id\" data type\n",
    "\n",
    "df_customer['user_id'] = df_customer['user_id'].astype('str')"
   ]
  },
  {
   "cell_type": "code",
   "execution_count": null,
   "id": "6dddb935-d780-440f-a633-9eee2f96df87",
   "metadata": {},
   "outputs": [],
   "source": [
    "df_customer.info()"
   ]
  },
  {
   "cell_type": "markdown",
   "id": "c5bf7a38-60b5-493e-8e4f-58144f1e407a",
   "metadata": {},
   "source": [
    "### 3. Consistency Check"
   ]
  },
  {
   "cell_type": "code",
   "execution_count": null,
   "id": "1097f8d0-c9ef-4a7b-a8f8-b2f5481e7bbb",
   "metadata": {},
   "outputs": [],
   "source": [
    "df_customer.describe()"
   ]
  },
  {
   "cell_type": "code",
   "execution_count": null,
   "id": "ecee79d6-e112-4b98-8ff4-2545d2f4a0fa",
   "metadata": {},
   "outputs": [],
   "source": [
    "# Checking for mixed-type columns\n",
    "\n",
    "for col in df_customer.columns.tolist():\n",
    "  weird = (df_customer[[col]].map(type) != df_customer[[col]].iloc[0].apply(type)).any(axis = 1)\n",
    "  if len (df_customer[weird]) > 0:\n",
    "    print (col)"
   ]
  },
  {
   "cell_type": "code",
   "execution_count": null,
   "id": "d95233ed-1bc0-4fb0-b7fc-6b5fdc2c8956",
   "metadata": {},
   "outputs": [],
   "source": [
    "# Changing column to str data type\n",
    "\n",
    "df_customer['first_name'] = df_customer['first_name'].astype('str')"
   ]
  },
  {
   "cell_type": "code",
   "execution_count": null,
   "id": "325626bf-792c-40cb-a5c3-ecd82c225a61",
   "metadata": {},
   "outputs": [],
   "source": [
    "for col in df_customer.columns.tolist():\n",
    "  weird = (df_customer[[col]].map(type) != df_customer[[col]].iloc[0].apply(type)).any(axis = 1)\n",
    "  if len (df_customer[weird]) > 0:\n",
    "    print (col)"
   ]
  },
  {
   "cell_type": "code",
   "execution_count": null,
   "id": "58c5bf58-c200-458e-ae71-c19a7ad3a6bc",
   "metadata": {},
   "outputs": [],
   "source": [
    "# Checking for missing values\n",
    "df_customer.isnull().sum()"
   ]
  },
  {
   "cell_type": "code",
   "execution_count": null,
   "id": "48f9cea6-5148-4861-9e8a-9ceace3ed2c8",
   "metadata": {},
   "outputs": [],
   "source": [
    "# Checking for duplicates\n",
    "\n",
    "df_dups = df_customer[df_customer.duplicated()]"
   ]
  },
  {
   "cell_type": "markdown",
   "id": "9a781a9a-6d05-4714-b4da-f3944f691720",
   "metadata": {},
   "source": [
    "### 4. Combining Data Frames"
   ]
  },
  {
   "cell_type": "code",
   "execution_count": null,
   "id": "dc94e0d1-9dbb-493b-914e-1a489425fe80",
   "metadata": {},
   "outputs": [],
   "source": [
    "# Importing previously prepared data \n",
    "\n",
    "df_op = pd.read_pickle(os.path.join(path, 'Data','Prepared Data', 'ords_prods_merge_agg.pkl'))"
   ]
  },
  {
   "cell_type": "code",
   "execution_count": null,
   "id": "e7f20ab8-9b1b-4c6d-97e6-5e625aff864b",
   "metadata": {},
   "outputs": [],
   "source": [
    "df_op.head(2)"
   ]
  },
  {
   "cell_type": "code",
   "execution_count": null,
   "id": "934d297d-d79a-4fe5-b6b1-879d937dec1d",
   "metadata": {},
   "outputs": [],
   "source": [
    "df_op.shape"
   ]
  },
  {
   "cell_type": "code",
   "execution_count": null,
   "id": "f2d1323f-bec3-47b3-ba1d-116b18725ddd",
   "metadata": {},
   "outputs": [],
   "source": [
    "df_op.info()"
   ]
  },
  {
   "cell_type": "code",
   "execution_count": null,
   "id": "07909554-d38a-458d-be97-b738e641b90a",
   "metadata": {},
   "outputs": [],
   "source": [
    "# Converting column \"user_id\" to str for merge\n",
    "\n",
    "df_op['user_id'] = df_op['user_id'].astype('str')"
   ]
  },
  {
   "cell_type": "code",
   "execution_count": null,
   "id": "7b66afad-4c8b-488e-85c0-4c62467909b5",
   "metadata": {},
   "outputs": [],
   "source": [
    "# Merging customer dataframe with prepared data dataframe with \"user_id\" as key\n",
    "\n",
    "df_customer_op_merged = df_customer.merge(df_op, on = 'user_id')"
   ]
  },
  {
   "cell_type": "code",
   "execution_count": null,
   "id": "553c3a85-e566-4848-b714-3a302fba832d",
   "metadata": {},
   "outputs": [],
   "source": [
    "df_customer_op_merged.head()"
   ]
  },
  {
   "cell_type": "code",
   "execution_count": null,
   "id": "1a09ef82-62aa-436c-a907-57f56c8385e7",
   "metadata": {},
   "outputs": [],
   "source": [
    "df_customer_op_merged.shape"
   ]
  },
  {
   "cell_type": "markdown",
   "id": "591f4c87-c0d3-4f42-9f3d-7d4a4f5658d4",
   "metadata": {},
   "source": [
    "### 5. Addressing Memory"
   ]
  },
  {
   "cell_type": "code",
   "execution_count": null,
   "id": "22a7fbf7-363f-4e25-92fc-8e7516cc2c67",
   "metadata": {
    "scrolled": true
   },
   "outputs": [],
   "source": [
    "# Check min and max of int64 types\n",
    "\n",
    "df_customer_op_merged.select_dtypes(include=['int64']).agg(['min', 'max'])"
   ]
  },
  {
   "cell_type": "code",
   "execution_count": null,
   "id": "e35c4b7c-f16a-42d6-9628-8c8f24dcceec",
   "metadata": {},
   "outputs": [],
   "source": [
    "# Changing column datatypes for memory\n",
    "df_customer_op_merged[['product_id', 'order_id','income', 'avg_price']] = df_customer_op_merged[['product_id', 'order_id', 'income', 'avg_price']].astype('int32')\n",
    "df_customer_op_merged[['aisle_id','department_id', 'order_count', 'orders_day_of_week', 'order_hour_of_day', 'add_to_cart_order', 'reordered', 'age', 'num_dependants', 'max_order']] = df_customer_op_merged[['aisle_id','department_id', 'order_count', 'orders_day_of_week', 'order_hour_of_day', 'add_to_cart_order', 'reordered', 'age', 'num_dependants', 'max_order']].astype('int16')"
   ]
  },
  {
   "cell_type": "code",
   "execution_count": null,
   "id": "5929a949-0381-41d3-acdc-cdd39ddc1c5f",
   "metadata": {},
   "outputs": [],
   "source": [
    "df_customer_op_merged.info()"
   ]
  },
  {
   "cell_type": "markdown",
   "id": "7cda6a81-8be8-49fb-9bee-0cb42ad757f4",
   "metadata": {},
   "source": [
    "##### Summary\n",
    "1. df_customer newly imported\n",
    "2. df_customer shape (206209, 10)\n",
    "3. 7 columns name change -- first_name, surname, gender, state, age, num_dependants, marraige_status\n",
    "4. user_id and first_name changed to str\n",
    "5. df_customer merged with df_op as df_customer_op_merged\n",
    "6. df_op shape (32404859, 24)\n",
    "7. Missing values found in df_op \n",
    "8. df_customer_op_merged shape (32404859, 33)\n",
    "9. int64 dtypes changed to int32 or int16 for memory"
   ]
  },
  {
   "cell_type": "markdown",
   "id": "9f478c21-a2a2-42e8-b862-9e5c1506fc10",
   "metadata": {},
   "source": [
    "### 6. Exports"
   ]
  },
  {
   "cell_type": "code",
   "execution_count": null,
   "id": "d80cc883-9892-437f-9c82-88516ae44547",
   "metadata": {},
   "outputs": [],
   "source": [
    "# exporting new df as a pkl\n",
    "df_customer_op_merged.to_pickle(os.path.join(path, 'Data', 'Prepared Data', 'customer_merged.pkl'))"
   ]
  }
 ],
 "metadata": {
  "kernelspec": {
   "display_name": "Python 3 (ipykernel)",
   "language": "python",
   "name": "python3"
  },
  "language_info": {
   "codemirror_mode": {
    "name": "ipython",
    "version": 3
   },
   "file_extension": ".py",
   "mimetype": "text/x-python",
   "name": "python",
   "nbconvert_exporter": "python",
   "pygments_lexer": "ipython3",
   "version": "3.12.7"
  }
 },
 "nbformat": 4,
 "nbformat_minor": 5
}
