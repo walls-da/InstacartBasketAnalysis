{
 "cells": [
  {
   "cell_type": "markdown",
   "id": "3cc5c5d2-9a12-44d6-adb4-c9e84bc40530",
   "metadata": {},
   "source": [
    "# 4.5 Data Consistency Checks"
   ]
  },
  {
   "cell_type": "markdown",
   "id": "93e35699-9bef-448c-9b3f-68865839b9b2",
   "metadata": {},
   "source": [
    "### 01. Importing libraries"
   ]
  },
  {
   "cell_type": "code",
   "execution_count": null,
   "id": "e1eb6703-d75f-4df2-b9a5-19b5c7e78f3d",
   "metadata": {},
   "outputs": [],
   "source": [
    "# Import libraries\n",
    "\n",
    "import pandas as pd\n",
    "import numpy as np\n",
    "import os"
   ]
  },
  {
   "cell_type": "code",
   "execution_count": null,
   "id": "3987a220-8cf5-4381-982e-608092eb7992",
   "metadata": {},
   "outputs": [],
   "source": [
    "# Import dataframes\n",
    "\n",
    "path = r'C:\\Users\\walls\\Documents\\Coding\\Data Analysis\\CareerFoundry\\Data Immersion A4\\Instacart Basket Analysis 01-25'\n",
    "df_prods = pd.read_csv(os.path.join(path, 'Data', 'Original Data', 'products.csv'), index_col = False)\n",
    "df_ords = pd.read_csv(os.path.join(path, 'Data', 'Prepared Data', 'orders_wrangled.csv'), index_col = False)"
   ]
  },
  {
   "cell_type": "code",
   "execution_count": null,
   "id": "e3b68eb0-cc99-4bd1-b351-ffaa510d9de9",
   "metadata": {},
   "outputs": [],
   "source": [
    "df_prods.head()"
   ]
  },
  {
   "cell_type": "code",
   "execution_count": null,
   "id": "7a7481c8-c9b8-44c9-bdff-df9902e7738b",
   "metadata": {},
   "outputs": [],
   "source": [
    "df_prods.shape"
   ]
  },
  {
   "cell_type": "code",
   "execution_count": null,
   "id": "e2cccdae-92bf-4515-abf4-991af159c706",
   "metadata": {},
   "outputs": [],
   "source": [
    "df_ords.head()"
   ]
  },
  {
   "cell_type": "code",
   "execution_count": null,
   "id": "912af34c-c04a-46f4-bf61-47f1efdbc05f",
   "metadata": {},
   "outputs": [],
   "source": [
    "df_ords.shape"
   ]
  },
  {
   "cell_type": "markdown",
   "id": "63f20982-3044-49c9-adec-1585c9f4cb38",
   "metadata": {},
   "source": [
    "##### Observations: \n",
    "df_ords has a new column, \"Unamed: 0\""
   ]
  },
  {
   "cell_type": "markdown",
   "id": "e37b5b00-fe1a-4e2d-879d-2fff875b36a5",
   "metadata": {},
   "source": [
    "### 02. Data Consistency Checks"
   ]
  },
  {
   "cell_type": "markdown",
   "id": "97404e7e-ca88-4c22-a6ff-157da099e344",
   "metadata": {},
   "source": [
    "#### Mixed Data"
   ]
  },
  {
   "cell_type": "code",
   "execution_count": null,
   "id": "22e14203-6bc8-4687-8850-44680ae9e815",
   "metadata": {},
   "outputs": [],
   "source": [
    "# Create a df\n",
    "\n",
    "df_test = pd.DataFrame()"
   ]
  },
  {
   "cell_type": "code",
   "execution_count": null,
   "id": "93fc2925-3cf3-442a-876d-5b1899ea4c8b",
   "metadata": {},
   "outputs": [],
   "source": [
    "# Create mixed type column\n",
    "\n",
    "df_test['mix'] = ['a', 'b', 1, True]"
   ]
  },
  {
   "cell_type": "code",
   "execution_count": null,
   "id": "9b5f6bb9-1b95-4969-a4c5-bc047eae7eaf",
   "metadata": {},
   "outputs": [],
   "source": [
    "df_test.head()"
   ]
  },
  {
   "cell_type": "code",
   "execution_count": null,
   "id": "b7e14b44-7ec1-45aa-89a1-c10afab8529f",
   "metadata": {
    "scrolled": true
   },
   "outputs": [],
   "source": [
    "# Check for mixed types\n",
    "\n",
    "for col in df_test.columns.tolist():\n",
    "  weird = (df_test[[col]].map(type) != df_test[[col]].iloc[0].apply(type)).any(axis = 1)\n",
    "  if len (df_test[weird]) > 0:\n",
    "    print (col)"
   ]
  },
  {
   "cell_type": "code",
   "execution_count": null,
   "id": "2e6ad09c-541e-40db-a92c-460bb5d9d847",
   "metadata": {},
   "outputs": [],
   "source": [
    "# Convert to str\n",
    "\n",
    "df_test['mix'] = df_test['mix'].astype('str')"
   ]
  },
  {
   "cell_type": "code",
   "execution_count": null,
   "id": "91cb06ba-9178-4118-86c5-85fbf7fb5a14",
   "metadata": {},
   "outputs": [],
   "source": [
    "df_test['mix'].dtype"
   ]
  },
  {
   "cell_type": "markdown",
   "id": "e840db28-c60f-4202-b69f-3dbf748f02f8",
   "metadata": {},
   "source": [
    "#### Missing Values"
   ]
  },
  {
   "cell_type": "code",
   "execution_count": null,
   "id": "e8298e38-8b77-42b7-8932-92ba5121bf6b",
   "metadata": {},
   "outputs": [],
   "source": [
    "# Check for missing values\n",
    "\n",
    "df_prods.isnull().sum()"
   ]
  },
  {
   "cell_type": "markdown",
   "id": "161291c4-a41f-442a-a211-3eb64e32fcfd",
   "metadata": {},
   "source": [
    "##### Observations: \n",
    "column product_name has 16 missing values"
   ]
  },
  {
   "cell_type": "code",
   "execution_count": null,
   "id": "dafaea68-3aed-47ed-9f91-8c51c31eb558",
   "metadata": {},
   "outputs": [],
   "source": [
    "# Create subset of missing values for product_name column\n",
    "df_nan = df_prods[df_prods['product_name'].isnull() == True ]"
   ]
  },
  {
   "cell_type": "code",
   "execution_count": null,
   "id": "ea1dc879-a55e-4c5a-82d0-143c98d3fe65",
   "metadata": {},
   "outputs": [],
   "source": [
    "df_nan"
   ]
  },
  {
   "cell_type": "code",
   "execution_count": null,
   "id": "32fc601a-7f6a-4500-a31a-d666d9ac99dc",
   "metadata": {},
   "outputs": [],
   "source": [
    "# Check stats\n",
    "\n",
    "df_prods.describe()"
   ]
  },
  {
   "cell_type": "markdown",
   "id": "97203587-f987-4efe-b6ca-591984140dc9",
   "metadata": {},
   "source": [
    "##### Observations:\n",
    "1. product_name does not appear -- missing values aren't int but str (can ignore/void)\n",
    "2. price column has a value of 99,999 for a product -- a mistake must be somewhere"
   ]
  },
  {
   "cell_type": "code",
   "execution_count": null,
   "id": "ed053b83-1f3e-4ce5-b2e7-67ab72633c50",
   "metadata": {},
   "outputs": [],
   "source": [
    "df_prods.shape"
   ]
  },
  {
   "cell_type": "code",
   "execution_count": null,
   "id": "087079d6-1cb5-4bdc-b316-2f9ef30c699a",
   "metadata": {},
   "outputs": [],
   "source": [
    "df_prods_clean = df_prods[df_prods['product_name'].isnull() == False]"
   ]
  },
  {
   "cell_type": "code",
   "execution_count": null,
   "id": "59e359bb-983f-463a-8119-b24efb36030c",
   "metadata": {},
   "outputs": [],
   "source": [
    "df_prods_clean.shape"
   ]
  },
  {
   "cell_type": "markdown",
   "id": "177a4535-c04d-4222-8a8d-d40550a027b5",
   "metadata": {},
   "source": [
    "#### Duplicates"
   ]
  },
  {
   "cell_type": "code",
   "execution_count": null,
   "id": "a8c157c8-0d0d-401b-bb3d-c5810635a17b",
   "metadata": {},
   "outputs": [],
   "source": [
    "# Find duplicates \n",
    "df_dups = df_prods_clean[df_prods_clean.duplicated()]"
   ]
  },
  {
   "cell_type": "code",
   "execution_count": null,
   "id": "af5f1d6f-dd92-446a-88ae-f8f696cc2750",
   "metadata": {},
   "outputs": [],
   "source": [
    "df_dups"
   ]
  },
  {
   "cell_type": "code",
   "execution_count": null,
   "id": "353a4a86-e4d2-4fee-9aec-356c21328a8b",
   "metadata": {},
   "outputs": [],
   "source": [
    "# Double checking df shape\n",
    "\n",
    "df_prods_clean.shape"
   ]
  },
  {
   "cell_type": "code",
   "execution_count": null,
   "id": "20af47b1-d736-429a-9b76-e47d05426c3c",
   "metadata": {},
   "outputs": [],
   "source": [
    "# Create new df without duplicates found above\n",
    "\n",
    "df_prods_clean_no_dups = df_prods_clean.drop_duplicates()"
   ]
  },
  {
   "cell_type": "code",
   "execution_count": null,
   "id": "ae97fe6d-f76a-425b-9fe8-89e5ce801aa1",
   "metadata": {},
   "outputs": [],
   "source": [
    "df_prods_clean_no_dups.shape"
   ]
  },
  {
   "cell_type": "markdown",
   "id": "6c85b984-8dab-4333-9069-3be0c8197d48",
   "metadata": {},
   "source": [
    "## Task"
   ]
  },
  {
   "cell_type": "code",
   "execution_count": null,
   "id": "cfae8442-a031-4241-844f-681672af1e23",
   "metadata": {},
   "outputs": [],
   "source": [
    "df_ords.describe()"
   ]
  },
  {
   "cell_type": "markdown",
   "id": "388c13ca-835a-4e18-be38-93f497c35c6d",
   "metadata": {},
   "source": [
    "##### Observations: \n",
    "1. Checking the statistics on the df_ords shows no concerning values."
   ]
  },
  {
   "cell_type": "code",
   "execution_count": null,
   "id": "4481214d-e32a-41bd-9034-e6095c3f9f9e",
   "metadata": {},
   "outputs": [],
   "source": [
    "# Check for mixed dtypes\n",
    "\n",
    "for col in df_ords.columns.tolist():\n",
    "  weird = (df_ords[[col]].map(type) != df_ords[[col]].iloc[0].apply(type)).any(axis = 1)\n",
    "  if len (df_ords[weird]) > 0:\n",
    "    print (col)"
   ]
  },
  {
   "cell_type": "markdown",
   "id": "82de1545-31cb-435f-b6ef-98a7c90e5b4c",
   "metadata": {},
   "source": [
    "##### Observations:\n",
    "1. No mixed columns were found."
   ]
  },
  {
   "cell_type": "code",
   "execution_count": null,
   "id": "2a0ac134-9e28-49a1-92a0-f66d4e789915",
   "metadata": {},
   "outputs": [],
   "source": [
    "# Check for missing values\n",
    "\n",
    "df_ords.isnull().sum()"
   ]
  },
  {
   "cell_type": "markdown",
   "id": "1768d79e-e59a-4cff-a66a-bdbdec475eb6",
   "metadata": {},
   "source": [
    "##### Observations: \n",
    "1.  206,209 missing values were found for 'days_since_prior_order' column\n",
    "2.  206,209 is also the number of user_ids. "
   ]
  },
  {
   "cell_type": "markdown",
   "id": "0af5e11c-9b87-482c-a8f7-41fee1e60526",
   "metadata": {},
   "source": [
    "# Find out the the missing values based on user_id count\n",
    "df_ords[df_ords['days_since_prior_order'].isnull()].groupby('user_id').count().describe()"
   ]
  },
  {
   "cell_type": "code",
   "execution_count": null,
   "id": "418967e6-b6fb-450c-b267-adc7da7408bb",
   "metadata": {},
   "outputs": [],
   "source": [
    "df_ords"
   ]
  },
  {
   "cell_type": "markdown",
   "id": "4af52f5d-9d6e-4aed-a060-619cfb2ff6fb",
   "metadata": {},
   "source": [
    "##### Observations:\n",
    "1.It is likely these missing values comes from the \"0\" variable, the first order of each user. \n",
    "2. Deleting the missing values doesn't seem necessary because all users have 1 in the days_since_prior_order column"
   ]
  },
  {
   "cell_type": "code",
   "execution_count": null,
   "id": "4b73c451-6376-4532-aadb-578682945ad2",
   "metadata": {},
   "outputs": [],
   "source": [
    "# Check for duplicates\n",
    "df_ords[df_ords.duplicated()]"
   ]
  },
  {
   "cell_type": "markdown",
   "id": "6ab07c1f-815e-4cb3-9bc7-096b32582e77",
   "metadata": {},
   "source": [
    "##### Observations:\n",
    "1. No duplicates found"
   ]
  },
  {
   "cell_type": "code",
   "execution_count": null,
   "id": "f3dbd6ad-bffb-4d63-a4da-3807c87ddeae",
   "metadata": {},
   "outputs": [],
   "source": [
    "# Drop \"Unnamed: 0\" column \n",
    "# Change df_ords name\n",
    "\n",
    "df_ords_clean = df_ords.drop('Unnamed: 0', axis=1)"
   ]
  },
  {
   "cell_type": "code",
   "execution_count": null,
   "id": "aeccfe80-32cb-412d-8180-4fb55113ef17",
   "metadata": {},
   "outputs": [],
   "source": [
    "df_ords_clean"
   ]
  },
  {
   "cell_type": "code",
   "execution_count": null,
   "id": "bc01f599-0487-4a59-8ccf-bcd50a980f0e",
   "metadata": {},
   "outputs": [],
   "source": [
    "df_ords_clean.head()"
   ]
  },
  {
   "cell_type": "code",
   "execution_count": null,
   "id": "6d8d3385-eae6-48d0-ba6c-b907ac210549",
   "metadata": {},
   "outputs": [],
   "source": []
  },
  {
   "cell_type": "markdown",
   "id": "0a87856c-b2e4-4545-8ad8-143a24b1a334",
   "metadata": {
    "jp-MarkdownHeadingCollapsed": true
   },
   "source": [
    "#### Summary"
   ]
  },
  {
   "cell_type": "markdown",
   "id": "afa1977b-4d3f-4042-bc58-c504ff47a6fd",
   "metadata": {},
   "source": [
    "1. Renamed orders_wrangled to df_ords\n",
    "2. Cleaned df_prods -- now df_prods_clean_no_dups\n",
    "3. Cleaned df_ords -- now df_ords_clean\n",
    "4. Removed 16 missing values from product_name column\n",
    "5. Removed 5 duplicates from df_prods \n",
    "6. df_ords_clean shape 3,421,083 rows and 6 columns\n",
    "7. df_prods_clean_no_dups shape 49,672 rows and 5 columns"
   ]
  },
  {
   "cell_type": "markdown",
   "id": "6c5b8ddf-6666-4fe8-a6a6-6f069d8e10c8",
   "metadata": {},
   "source": [
    "### 04. Exporting"
   ]
  },
  {
   "cell_type": "code",
   "execution_count": null,
   "id": "a1e68a08-c118-46ba-a4ab-27085f0e66f7",
   "metadata": {},
   "outputs": [],
   "source": [
    "# Export df\n",
    "\n",
    "df_prods_clean_no_dups.to_csv(os.path.join(path, 'Data','Prepared Data', 'products_checked.csv'))\n",
    "\n",
    "df_ords_clean.to_csv(os.path.join(path, 'Data','Prepared Data', 'orders_checked.csv'))"
   ]
  }
 ],
 "metadata": {
  "kernelspec": {
   "display_name": "Python 3 (ipykernel)",
   "language": "python",
   "name": "python3"
  },
  "language_info": {
   "codemirror_mode": {
    "name": "ipython",
    "version": 3
   },
   "file_extension": ".py",
   "mimetype": "text/x-python",
   "name": "python",
   "nbconvert_exporter": "python",
   "pygments_lexer": "ipython3",
   "version": "3.12.7"
  }
 },
 "nbformat": 4,
 "nbformat_minor": 5
}
