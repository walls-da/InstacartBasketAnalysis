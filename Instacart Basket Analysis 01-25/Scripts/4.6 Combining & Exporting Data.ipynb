{
 "cells": [
  {
   "cell_type": "markdown",
   "id": "3e778314-e48d-472c-8c00-1048890b51b1",
   "metadata": {},
   "source": [
    "# 4.6: Combining & Exporting Data"
   ]
  },
  {
   "cell_type": "markdown",
   "id": "b447c1c8-9435-42ea-9e6f-553a84ab216a",
   "metadata": {},
   "source": [
    "## Points in this script:\n",
    "\n",
    "#### 1. Imports\n",
    "#### 2.Create data to experiment on\n",
    "#### 3. Concatenate dataframes\n",
    "#### 4. Append data\n",
    "#### 5. Merge data\n",
    "#### 6. Exports"
   ]
  },
  {
   "cell_type": "markdown",
   "id": "9bdac943-d3bb-4965-889d-cc232e066208",
   "metadata": {},
   "source": [
    "### 1. Imports"
   ]
  },
  {
   "cell_type": "code",
   "execution_count": null,
   "id": "6200737b-b575-4758-97a2-9dad809eebb4",
   "metadata": {},
   "outputs": [],
   "source": [
    "# Import libraries\n",
    "\n",
    "import pandas as pd\n",
    "import numpy as np\n",
    "import os"
   ]
  },
  {
   "cell_type": "code",
   "execution_count": null,
   "id": "08e2610f-5efc-45ef-a43c-9f940f7196c9",
   "metadata": {},
   "outputs": [],
   "source": [
    "# Import dataframes\n",
    "\n",
    "path = r'C:\\Users\\walls\\Documents\\Coding\\Data Analysis\\CareerFoundry\\Data Immersion A4\\Instacart Basket Analysis 01-25'\n",
    "df_ords = pd.read_csv(os.path.join(path, 'Data', 'Prepared Data', 'orders_checked.csv'), index_col = False)\n",
    "df_op_prior = pd.read_csv(os.path.join(path, 'Data', 'Original Data', 'orders_products_prior.csv'), index_col = False)"
   ]
  },
  {
   "cell_type": "code",
   "execution_count": null,
   "id": "1c0a6881-dafd-4833-a9a9-35ec5bf9ecc0",
   "metadata": {},
   "outputs": [],
   "source": [
    "df_ords.head()"
   ]
  },
  {
   "cell_type": "code",
   "execution_count": null,
   "id": "8f3c9074-91cd-4d61-b7f6-0c0a9b30dfa4",
   "metadata": {},
   "outputs": [],
   "source": [
    "# Unnamed column appeared again, removing\n",
    "\n",
    "df_ords = df_ords.drop('Unnamed: 0', axis=1)"
   ]
  },
  {
   "cell_type": "code",
   "execution_count": null,
   "id": "556ceea6-0550-47c1-991c-5e5666340f56",
   "metadata": {
    "scrolled": true
   },
   "outputs": [],
   "source": [
    "df_ords"
   ]
  },
  {
   "cell_type": "code",
   "execution_count": null,
   "id": "8f42ba7b-7577-47c9-b4fd-21ea989e7dc6",
   "metadata": {},
   "outputs": [],
   "source": [
    "df_ords.shape"
   ]
  },
  {
   "cell_type": "code",
   "execution_count": null,
   "id": "4b3178e7-3320-4632-9897-9c875a93f5f1",
   "metadata": {
    "scrolled": true
   },
   "outputs": [],
   "source": [
    "df_ords_prior"
   ]
  },
  {
   "cell_type": "code",
   "execution_count": null,
   "id": "e76f7635-91eb-4499-beee-4133272b6936",
   "metadata": {},
   "outputs": [],
   "source": [
    "df_op_prior.shape"
   ]
  },
  {
   "cell_type": "markdown",
   "id": "1e33e40f-6da1-483b-ad09-bc2c61221f6e",
   "metadata": {},
   "source": [
    "### 2. Merging Dataframes"
   ]
  },
  {
   "cell_type": "code",
   "execution_count": null,
   "id": "13ee40c8-8656-41b0-a500-5beb618d8450",
   "metadata": {},
   "outputs": [],
   "source": [
    "df_merged_large = df_ords.merge(df_op_prior, on = 'order_id', indicator = True)"
   ]
  },
  {
   "cell_type": "code",
   "execution_count": null,
   "id": "b37ca11c-0d68-4d56-a967-6d6889228912",
   "metadata": {},
   "outputs": [],
   "source": [
    "df_merged_large.head()"
   ]
  },
  {
   "cell_type": "code",
   "execution_count": null,
   "id": "fee59926-fced-4595-80f8-fb364b8fa9f8",
   "metadata": {},
   "outputs": [],
   "source": [
    "# new column created, checking frequency\n",
    "\n",
    "df_merged_large['_merge'].value_counts()"
   ]
  },
  {
   "cell_type": "markdown",
   "id": "4f6b603b-5698-45c1-ae05-651448aa74af",
   "metadata": {},
   "source": [
    "##### Observations: \n",
    "1.  32434489 merged on both sides"
   ]
  },
  {
   "cell_type": "code",
   "execution_count": null,
   "id": "a63f64eb-ed93-47c4-9455-2d5a99ff5a49",
   "metadata": {},
   "outputs": [],
   "source": [
    "df_merged_large.shape"
   ]
  },
  {
   "cell_type": "markdown",
   "id": "dc13b233-f31e-4542-8681-26f1656dd1cb",
   "metadata": {},
   "source": [
    "#### Summary"
   ]
  },
  {
   "cell_type": "markdown",
   "id": "e70e0fb9-8258-4d7d-b85c-836784bae686",
   "metadata": {},
   "source": [
    "1. df_ords_clean changed to df_ords\n",
    "2. New df imported: df_op_prior\n",
    "3. df_op_prior shape 32,434,489 rows and 4 columns\n",
    "4. df_ords shape 3,421,083 rows and 6 columns\n",
    "5. df_merged_large shape  32,434,489 rows and 10 columns"
   ]
  },
  {
   "cell_type": "markdown",
   "id": "dfde6706-7fb1-41d6-a484-8ccd0c0aaade",
   "metadata": {},
   "source": [
    "### 3. Exports"
   ]
  },
  {
   "cell_type": "code",
   "execution_count": null,
   "id": "ba8cf8a1-19a6-4c17-a3bd-ea03aa132210",
   "metadata": {},
   "outputs": [],
   "source": [
    "# Export file as a pkl\n",
    "\n",
    "df_merged_large.to_pickle(os.path.join(path, 'data' , 'Prepared Data' , 'orders_products_combined.pkl'))"
   ]
  }
 ],
 "metadata": {
  "kernelspec": {
   "display_name": "Python 3 (ipykernel)",
   "language": "python",
   "name": "python3"
  },
  "language_info": {
   "codemirror_mode": {
    "name": "ipython",
    "version": 3
   },
   "file_extension": ".py",
   "mimetype": "text/x-python",
   "name": "python",
   "nbconvert_exporter": "python",
   "pygments_lexer": "ipython3",
   "version": "3.12.7"
  }
 },
 "nbformat": 4,
 "nbformat_minor": 5
}
