{
 "cells": [
  {
   "cell_type": "markdown",
   "id": "6bd469b2-7518-4716-b5ef-b051cbfd673c",
   "metadata": {},
   "source": [
    "#### 01. Importing Libraries"
   ]
  },
  {
   "cell_type": "code",
   "execution_count": null,
   "id": "d874a097-4256-4c30-978a-751177371892",
   "metadata": {},
   "outputs": [],
   "source": [
    "# Import libraries\n",
    "\n",
    "import pandas as pd\n",
    "import numpy as np\n",
    "import os"
   ]
  },
  {
   "cell_type": "code",
   "execution_count": null,
   "id": "aa391531-fe63-4cc6-a672-c20c3531188e",
   "metadata": {},
   "outputs": [],
   "source": [
    "df_orders = pd.read_csv(r'C:\\Users\\walls\\Documents\\Coding\\Data Analysis\\CareerFoundry\\Data Immersion A4\\Instacart Basket Analysis 01-25\\Data\\Original Data\\orders.csv', index_col = False)"
   ]
  },
  {
   "cell_type": "code",
   "execution_count": null,
   "id": "930b5999-fa7d-4070-bc06-2103ff049f27",
   "metadata": {},
   "outputs": [],
   "source": [
    "path = r'C:\\Users\\walls\\Documents\\Coding\\Data Analysis\\CareerFoundry\\Data Immersion A4\\Instacart Basket Analysis 01-25'"
   ]
  },
  {
   "cell_type": "code",
   "execution_count": null,
   "id": "9ea26db5-2f28-4f93-846a-aae8f8f67866",
   "metadata": {},
   "outputs": [],
   "source": [
    "path"
   ]
  },
  {
   "cell_type": "code",
   "execution_count": null,
   "id": "4b5e61c5-da29-4771-84dd-f41ec84a0bb2",
   "metadata": {},
   "outputs": [],
   "source": [
    "df_ords = pd.read_csv(os.path.join(path, 'Data', 'Original Data', 'orders.csv'), index_col = False)"
   ]
  },
  {
   "cell_type": "code",
   "execution_count": null,
   "id": "97dcd1f1-de7f-4090-bf23-819c4e401093",
   "metadata": {},
   "outputs": [],
   "source": [
    "df_ords.head()"
   ]
  },
  {
   "cell_type": "code",
   "execution_count": null,
   "id": "6bac6fd0-a22b-44e2-b2ec-84fbc69f6ada",
   "metadata": {},
   "outputs": [],
   "source": [
    "df_ords.tail()"
   ]
  },
  {
   "cell_type": "code",
   "execution_count": null,
   "id": "48638985-d37b-410f-9caa-2e8dbbab92e8",
   "metadata": {},
   "outputs": [],
   "source": [
    "df_ords.shape"
   ]
  },
  {
   "cell_type": "code",
   "execution_count": null,
   "id": "6e32a051-0203-44a6-ac76-16b1cee859b8",
   "metadata": {},
   "outputs": [],
   "source": [
    "df_ords.info()"
   ]
  },
  {
   "cell_type": "code",
   "execution_count": null,
   "id": "c223e7a7-1e7e-4e79-8a37-0b99599fa029",
   "metadata": {},
   "outputs": [],
   "source": [
    "df_ords.dtypes"
   ]
  },
  {
   "cell_type": "code",
   "execution_count": null,
   "id": "193ab784-6087-421b-a6ec-31650a3dea25",
   "metadata": {},
   "outputs": [],
   "source": [
    "df_ords.columns"
   ]
  },
  {
   "cell_type": "code",
   "execution_count": null,
   "id": "28a46c21-1e13-44d4-8678-bee943278ec7",
   "metadata": {},
   "outputs": [],
   "source": [
    "df_ords.describe()"
   ]
  },
  {
   "cell_type": "markdown",
   "id": "4319b45f-b96e-403c-9757-4eb9f1943a15",
   "metadata": {},
   "source": [
    "##### Observations: \n",
    "1. 3,421,083 rows, 7 columns\n",
    "2. order_dow to be changed\n",
    "3. eval_set column not needed\n",
    "4. order_id and user_id don't need to be calculated as values"
   ]
  },
  {
   "cell_type": "code",
   "execution_count": null,
   "id": "3e2cd122-542c-4230-b217-8b3afc63f6ce",
   "metadata": {},
   "outputs": [],
   "source": [
    "# removing \"eval_set\" column\n",
    "\n",
    "vars_list = ['order_id', 'user_id', 'order_number', 'order_dow', 'order_hour_of_day', 'days_since_prior_order']"
   ]
  },
  {
   "cell_type": "code",
   "execution_count": null,
   "id": "2e9463e1-9471-4aa8-bd41-ee4d6215bccd",
   "metadata": {},
   "outputs": [],
   "source": [
    "vars_list"
   ]
  },
  {
   "cell_type": "code",
   "execution_count": null,
   "id": "2daf7d42-2e10-4a89-b271-3af5025bf113",
   "metadata": {},
   "outputs": [],
   "source": [
    "df_ords = pd.read_csv(os.path.join(path, 'Data', 'Original Data', 'orders.csv'), usecols = vars_list)"
   ]
  },
  {
   "cell_type": "code",
   "execution_count": null,
   "id": "7b4d0162-36a4-4098-a4b6-7c24c0b3a6b4",
   "metadata": {},
   "outputs": [],
   "source": [
    "df_ords.head()"
   ]
  },
  {
   "cell_type": "code",
   "execution_count": null,
   "id": "c8394301-3d85-4425-b3d1-c9a57aed3c2a",
   "metadata": {},
   "outputs": [],
   "source": [
    "df_ords.shape"
   ]
  },
  {
   "cell_type": "markdown",
   "id": "cf7bcbce-d28b-4aec-be68-58aaa52ba20f",
   "metadata": {},
   "source": [
    "##### Observations:\n",
    "1. eval_set removed\n",
    "2. 3,421,083 columns and 6 rows"
   ]
  },
  {
   "cell_type": "markdown",
   "id": "cd0912bd-a4d1-4932-8091-d745445d295b",
   "metadata": {},
   "source": [
    "# 03. Import new dataframe"
   ]
  },
  {
   "cell_type": "code",
   "execution_count": null,
   "id": "0e9dda03-52af-4a70-9d6d-a0c19e114d4e",
   "metadata": {},
   "outputs": [],
   "source": [
    "# Importing products.csv\n",
    "\n",
    "df_prods = pd.read_csv(os.path.join(path, 'Data', 'Original Data', 'products.csv'), index_col = False)"
   ]
  },
  {
   "cell_type": "code",
   "execution_count": null,
   "id": "4346c6ab-d8d2-4ba2-95ef-64c3d417321e",
   "metadata": {},
   "outputs": [],
   "source": [
    "df_prods.head(20)"
   ]
  },
  {
   "cell_type": "code",
   "execution_count": null,
   "id": "8789f2f2-3914-4108-806f-e9b6049cf440",
   "metadata": {},
   "outputs": [],
   "source": [
    "df_prods.tail(35)"
   ]
  },
  {
   "cell_type": "code",
   "execution_count": null,
   "id": "94d50a14-72db-4d6f-8ea9-0128b0af2af1",
   "metadata": {},
   "outputs": [],
   "source": [
    "df_prods.columns"
   ]
  },
  {
   "cell_type": "code",
   "execution_count": null,
   "id": "69ca0250-e171-4676-b4c9-acc77610c3d4",
   "metadata": {},
   "outputs": [],
   "source": [
    "df_prods.shape"
   ]
  },
  {
   "cell_type": "markdown",
   "id": "8eb12057-5442-463e-a507-be3af52c5199",
   "metadata": {},
   "source": [
    "##### Observations:\n",
    "1. 49,693 rows and 5 columns"
   ]
  },
  {
   "cell_type": "markdown",
   "id": "9505b089-57bc-426f-a879-846c1fefb50a",
   "metadata": {},
   "source": [
    "## 04. Additional Tasks"
   ]
  },
  {
   "cell_type": "code",
   "execution_count": null,
   "id": "12ccc6ab-1ce1-4163-bf04-a7fbb4f537b8",
   "metadata": {},
   "outputs": [],
   "source": [
    "# What's the maximum value of the 'aisle_id' column? \n",
    "df_prods['aisle_id'].max()"
   ]
  },
  {
   "cell_type": "markdown",
   "id": "eafcbfd6-5650-4d51-9516-637873cd53b9",
   "metadata": {},
   "source": [
    "##### The maximum value for the 'aisle_id' column is 134."
   ]
  },
  {
   "cell_type": "code",
   "execution_count": null,
   "id": "f31e7c2f-8b2e-4b7a-b2c2-98189838c80f",
   "metadata": {},
   "outputs": [],
   "source": [
    "# What's the data type of the 'department_id' column?\n",
    "\n",
    "df_prods['department_id'].dtype"
   ]
  },
  {
   "cell_type": "markdown",
   "id": "808eedf6-322a-457e-bfd2-41ddb6ea8545",
   "metadata": {},
   "source": [
    "The data type for the 'department_id' column is int64."
   ]
  }
 ],
 "metadata": {
  "kernelspec": {
   "display_name": "Python 3 (ipykernel)",
   "language": "python",
   "name": "python3"
  },
  "language_info": {
   "codemirror_mode": {
    "name": "ipython",
    "version": 3
   },
   "file_extension": ".py",
   "mimetype": "text/x-python",
   "name": "python",
   "nbconvert_exporter": "python",
   "pygments_lexer": "ipython3",
   "version": "3.12.7"
  }
 },
 "nbformat": 4,
 "nbformat_minor": 5
}
