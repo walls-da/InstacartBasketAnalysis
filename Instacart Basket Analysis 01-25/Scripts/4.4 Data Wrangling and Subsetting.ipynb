{
 "cells": [
  {
   "cell_type": "markdown",
   "id": "fe0e5dfc-b1cc-4be5-a00d-2cfd8b256829",
   "metadata": {
    "jp-MarkdownHeadingCollapsed": true
   },
   "source": [
    "### 01. Importing libraries"
   ]
  },
  {
   "cell_type": "code",
   "execution_count": null,
   "id": "557e2f06-3938-42d0-9b2a-c6b29273ac29",
   "metadata": {},
   "outputs": [],
   "source": [
    "# Import libraries\n",
    "\n",
    "import pandas as pd\n",
    "import numpy as np\n",
    "import os"
   ]
  },
  {
   "cell_type": "code",
   "execution_count": null,
   "id": "df1efda8-2899-4df2-b0fd-045decb1da0e",
   "metadata": {},
   "outputs": [],
   "source": [
    "# Import dataframes\n",
    "\n",
    "path = r'C:\\Users\\walls\\Documents\\Coding\\Data Analysis\\CareerFoundry\\Data Immersion A4\\Instacart Basket Analysis 01-25'\n",
    "df_ords = pd.read_csv(os.path.join(path, 'Data', 'Original Data', 'orders.csv'), index_col = False)\n",
    "df_prods = pd.read_csv(os.path.join(path, 'Data', 'Original Data', 'products.csv'), index_col = False)"
   ]
  },
  {
   "cell_type": "code",
   "execution_count": null,
   "id": "7d97277c-c820-4334-94f2-f57abde5f33c",
   "metadata": {},
   "outputs": [],
   "source": [
    "df_ords.shape"
   ]
  },
  {
   "cell_type": "code",
   "execution_count": null,
   "id": "98ad2c87-ab6e-4d9e-87af-cfbdd6864478",
   "metadata": {},
   "outputs": [],
   "source": [
    "df_prods.shape"
   ]
  },
  {
   "cell_type": "code",
   "execution_count": null,
   "id": "826e7fc3-cb2e-4ddf-b94f-71d7366f5a7f",
   "metadata": {},
   "outputs": [],
   "source": [
    "df_ords.head()"
   ]
  },
  {
   "cell_type": "code",
   "execution_count": null,
   "id": "1f156406-ffff-40e7-93da-cf8e379a2262",
   "metadata": {},
   "outputs": [],
   "source": [
    "df_prods.head()"
   ]
  },
  {
   "cell_type": "markdown",
   "id": "62c3ab25-0683-4f14-918d-fb0649dc0074",
   "metadata": {},
   "source": [
    "##### Observations:\n",
    "1. eval_set is an unneeded column\n",
    "2. order_dow is unclear"
   ]
  },
  {
   "cell_type": "markdown",
   "id": "ecc84d99-1e67-4d10-aa91-d8be11857c20",
   "metadata": {
    "jp-MarkdownHeadingCollapsed": true
   },
   "source": [
    "### 02. Data Wrangling"
   ]
  },
  {
   "cell_type": "code",
   "execution_count": null,
   "id": "77e95eb8-eb3b-42b3-a7fc-342c98cd823d",
   "metadata": {},
   "outputs": [],
   "source": [
    "# Dropping columns\n",
    "df_ords.drop(columns = ['eval_set'])"
   ]
  },
  {
   "cell_type": "code",
   "execution_count": null,
   "id": "0addff12-a9ba-44ae-a33d-684cd3ed67c3",
   "metadata": {},
   "outputs": [],
   "source": [
    "# Save df_ords as new df with deleted column\n",
    "\n",
    "df_ords_wrangled = df_ords.drop(columns = ['eval_set'])"
   ]
  },
  {
   "cell_type": "code",
   "execution_count": null,
   "id": "ed9f1370-2450-4bfc-b8e9-ce6d1f50a863",
   "metadata": {},
   "outputs": [],
   "source": [
    "df_ords_wrangled.head()"
   ]
  },
  {
   "cell_type": "code",
   "execution_count": null,
   "id": "0007f1df-a727-4c97-aefa-934c427e7c19",
   "metadata": {},
   "outputs": [],
   "source": [
    "# Check for missing values\n",
    "\n",
    "df_ords_wrangled['days_since_prior_order'].value_counts(dropna = False)"
   ]
  },
  {
   "cell_type": "code",
   "execution_count": null,
   "id": "01765802-40d2-4055-968f-10e618128cd5",
   "metadata": {},
   "outputs": [],
   "source": [
    "# Renaming column\n",
    "\n",
    "df_ords_wrangled.rename(columns = {'order_dow' : 'orders_day_of_week'}, inplace = True)"
   ]
  },
  {
   "cell_type": "code",
   "execution_count": null,
   "id": "73e3702e-6a48-49fd-83fa-d85dae07d405",
   "metadata": {},
   "outputs": [],
   "source": [
    "df_ords_wrangled.head()"
   ]
  },
  {
   "cell_type": "code",
   "execution_count": null,
   "id": "e65346ba-5229-49b2-82b4-01ec34c1ad83",
   "metadata": {},
   "outputs": [],
   "source": [
    "df_ords_wrangled.describe()"
   ]
  },
  {
   "cell_type": "code",
   "execution_count": null,
   "id": "214339df-5bec-4b33-b797-5bdbf7b27f17",
   "metadata": {},
   "outputs": [],
   "source": [
    "# Changing order_id dtype\n",
    "\n",
    "df_ords_wrangled['order_id'] = df_ords['order_id'].astype('str')"
   ]
  },
  {
   "cell_type": "code",
   "execution_count": null,
   "id": "f65d4ee3-df8f-44b4-b385-1037d1fa54d3",
   "metadata": {},
   "outputs": [],
   "source": [
    "df_ords_wrangled['order_id'].dtype"
   ]
  },
  {
   "cell_type": "markdown",
   "id": "3e72eb4a-e8ca-42e8-bab3-fadac6844d07",
   "metadata": {},
   "source": [
    "### 03. Import new dataframe"
   ]
  },
  {
   "cell_type": "code",
   "execution_count": null,
   "id": "1c40c739-6468-4a9d-8aea-8d00c437826f",
   "metadata": {},
   "outputs": [],
   "source": [
    "# Import departments.csv\n",
    "\n",
    "df_dep = pd.read_csv(os.path.join(path, 'Data', 'Original Data', 'departments.csv'), index_col = False)"
   ]
  },
  {
   "cell_type": "code",
   "execution_count": null,
   "id": "0baad780-d4cf-4820-be1b-00fe8d3de4be",
   "metadata": {},
   "outputs": [],
   "source": [
    "df_dep.head()"
   ]
  },
  {
   "cell_type": "code",
   "execution_count": null,
   "id": "3807465f-0c10-4832-a771-4131f5a3e45f",
   "metadata": {},
   "outputs": [],
   "source": [
    "# Transposing df_dep\n",
    "\n",
    "df_dep_t = df_dep.T"
   ]
  },
  {
   "cell_type": "code",
   "execution_count": null,
   "id": "a9fb1287-560d-4259-9a66-d11fe46b9585",
   "metadata": {},
   "outputs": [],
   "source": [
    "df_dep_t"
   ]
  },
  {
   "cell_type": "code",
   "execution_count": null,
   "id": "c6188a74-7649-4fce-b67b-91ffc4c5401c",
   "metadata": {
    "scrolled": true
   },
   "outputs": [],
   "source": [
    "# adding an index\n",
    "\n",
    "df_dep_t.reset_index()"
   ]
  },
  {
   "cell_type": "code",
   "execution_count": null,
   "id": "85a63c1b-f0e4-4ced-aca9-e05f8dc8da3a",
   "metadata": {},
   "outputs": [],
   "source": [
    "# create new header\n",
    "\n",
    "new_header = df_dep_t.iloc[0]"
   ]
  },
  {
   "cell_type": "code",
   "execution_count": null,
   "id": "69ca58e8-8e30-4105-a41f-ac26788c81a4",
   "metadata": {},
   "outputs": [],
   "source": [
    "new_header"
   ]
  },
  {
   "cell_type": "code",
   "execution_count": null,
   "id": "b32808ec-dece-4431-b772-c703bf921461",
   "metadata": {},
   "outputs": [],
   "source": [
    "df_dep_t_new = df_dep_t[1:]"
   ]
  },
  {
   "cell_type": "code",
   "execution_count": null,
   "id": "23f39c1f-8545-4955-aec0-6f2db4fad810",
   "metadata": {},
   "outputs": [],
   "source": [
    "df_dep_t_new"
   ]
  },
  {
   "cell_type": "code",
   "execution_count": null,
   "id": "e6db281e-178d-4f69-9aa3-d045bae8ebee",
   "metadata": {},
   "outputs": [],
   "source": [
    "# set header row as df header\n",
    "\n",
    "df_dep_t_new.columns = new_header"
   ]
  },
  {
   "cell_type": "code",
   "execution_count": null,
   "id": "dbac0b0b-115a-4fbd-8560-a4edf048dbb4",
   "metadata": {},
   "outputs": [],
   "source": [
    "df_dep_t_new"
   ]
  },
  {
   "cell_type": "code",
   "execution_count": null,
   "id": "2410bbe0-c31c-4cce-bd3a-3e50da922284",
   "metadata": {},
   "outputs": [],
   "source": [
    "df_dep_t_new.shape"
   ]
  },
  {
   "cell_type": "markdown",
   "id": "f42fae4b-2c71-43e0-835b-38a3358a122b",
   "metadata": {},
   "source": [
    "### 05. Data Dictionary"
   ]
  },
  {
   "cell_type": "code",
   "execution_count": null,
   "id": "21185f37-5429-4f53-a774-196183af928b",
   "metadata": {},
   "outputs": [],
   "source": [
    "data_dict = df_dep_t_new.to_dict('index')"
   ]
  },
  {
   "cell_type": "code",
   "execution_count": null,
   "id": "e9dbc38e-eb75-4756-b98c-772fa40587fd",
   "metadata": {},
   "outputs": [],
   "source": [
    "data_dict"
   ]
  },
  {
   "cell_type": "code",
   "execution_count": null,
   "id": "0c2aa100-d649-48d2-9ac2-461badbf546a",
   "metadata": {},
   "outputs": [],
   "source": [
    "df_prods.head()"
   ]
  },
  {
   "cell_type": "code",
   "execution_count": null,
   "id": "064c8b9a-aa24-4ffb-a683-12bde60599f6",
   "metadata": {},
   "outputs": [],
   "source": [
    "print(data_dict.get('19'))"
   ]
  },
  {
   "cell_type": "markdown",
   "id": "cbd6afda-9726-40da-8fb3-be6308686c7e",
   "metadata": {},
   "source": [
    "### 06. Subsetting"
   ]
  },
  {
   "cell_type": "code",
   "execution_count": null,
   "id": "61882cc5-eaa2-4d6b-9154-bcc34faa0ff9",
   "metadata": {},
   "outputs": [],
   "source": [
    "df_prods['department_id']==19"
   ]
  },
  {
   "cell_type": "code",
   "execution_count": null,
   "id": "6ff9a492-3279-4b47-987a-1ab8daf6ddff",
   "metadata": {},
   "outputs": [],
   "source": [
    "df_prods[df_prods['department_id']==19]"
   ]
  },
  {
   "cell_type": "code",
   "execution_count": null,
   "id": "9d8b3617-a9a2-44c1-9def-ec43927863f3",
   "metadata": {},
   "outputs": [],
   "source": [
    "# Df of just snacks\n",
    "\n",
    "df_snacks =  df_prods[df_prods['department_id']==19]"
   ]
  },
  {
   "cell_type": "code",
   "execution_count": null,
   "id": "f78e0664-82de-41b9-a234-e99bad8f3ea0",
   "metadata": {},
   "outputs": [],
   "source": [
    "df_snacks.head()"
   ]
  },
  {
   "cell_type": "code",
   "execution_count": null,
   "id": "29eda985-b181-4ee7-af1f-f45cd2631528",
   "metadata": {},
   "outputs": [],
   "source": [
    "df_snacks_2 = df_prods.loc[df_prods['department_id'] == 19]"
   ]
  },
  {
   "cell_type": "code",
   "execution_count": null,
   "id": "34c8517a-b876-4791-bc82-fbfc2af50ee7",
   "metadata": {},
   "outputs": [],
   "source": [
    "df_snacks_3 = df_prods.loc[df_prods['department_id'].isin([19])]"
   ]
  },
  {
   "cell_type": "markdown",
   "id": "e98e741a-7cf8-429f-b37d-bd7efd5c57b8",
   "metadata": {},
   "source": [
    "# Task"
   ]
  },
  {
   "cell_type": "code",
   "execution_count": null,
   "id": "9cbbf17c-04c0-4fe8-acbc-b20a878f8348",
   "metadata": {},
   "outputs": [],
   "source": [
    "df_ords_wrangled.head()"
   ]
  },
  {
   "cell_type": "code",
   "execution_count": null,
   "id": "c9d921a8-0d61-4345-8ec1-85f7ec4d15e3",
   "metadata": {},
   "outputs": [],
   "source": [
    "df_ords_wrangled.describe()"
   ]
  },
  {
   "cell_type": "code",
   "execution_count": null,
   "id": "86f9596c-64a8-427d-bba8-9d1a0f574bbc",
   "metadata": {},
   "outputs": [],
   "source": [
    "# Change column \"user_id\" to str : doesn't need calculations\n",
    "\n",
    "df_ords_wrangled['user_id'] = df_ords_wrangled['user_id'].astype('str')"
   ]
  },
  {
   "cell_type": "code",
   "execution_count": null,
   "id": "3a450279-d9e1-43a7-b1e5-ddc92d376a5d",
   "metadata": {},
   "outputs": [],
   "source": [
    "df_ords_wrangled['user_id'].dtype"
   ]
  },
  {
   "cell_type": "code",
   "execution_count": null,
   "id": "48a57f14-1576-4961-a315-247327bad47c",
   "metadata": {},
   "outputs": [],
   "source": [
    "# Change column 'order_number' for clarity\n",
    "df_ords_wrangled.rename(columns = {'order_number' : 'order_count'}, inplace = True)"
   ]
  },
  {
   "cell_type": "code",
   "execution_count": null,
   "id": "877e3fb8-ea9e-40b4-81dc-2a66ff379b96",
   "metadata": {
    "scrolled": true
   },
   "outputs": [],
   "source": [
    "df_ords_wrangled.head()"
   ]
  },
  {
   "cell_type": "code",
   "execution_count": null,
   "id": "89141931-ae8f-44f8-aacf-09791eb52817",
   "metadata": {},
   "outputs": [],
   "source": [
    "# What is the busiest hour? Finding frequency\n",
    "\n",
    "df_ords['order_hour_of_day'].value_counts(dropna = True)"
   ]
  },
  {
   "cell_type": "markdown",
   "id": "4c5f89f5-1dd5-4f4f-a2b9-9d10b109db2b",
   "metadata": {},
   "source": [
    "##### 10am is the busiet hour."
   ]
  },
  {
   "cell_type": "code",
   "execution_count": null,
   "id": "7c714fc8-76c0-4d63-bc8a-88dfeee48dcd",
   "metadata": {},
   "outputs": [],
   "source": [
    "# What is department_id 4\n",
    "\n",
    "(data_dict.get('4'))"
   ]
  },
  {
   "cell_type": "markdown",
   "id": "8563ec7d-569e-43eb-84e1-38ab1219232b",
   "metadata": {},
   "source": [
    "##### department_id corresponds to produce"
   ]
  },
  {
   "cell_type": "code",
   "execution_count": null,
   "id": "e2947f72-b75e-408c-82cb-9fa71298c1b8",
   "metadata": {},
   "outputs": [],
   "source": [
    "# Subset of breakfast items\n",
    "\n",
    "df_breakfast =  df_prods[df_prods['department_id']==14]"
   ]
  },
  {
   "cell_type": "code",
   "execution_count": null,
   "id": "8db5f4ae-1211-4db8-be80-cf92d688429d",
   "metadata": {},
   "outputs": [],
   "source": [
    "df_breakfast.head()"
   ]
  },
  {
   "cell_type": "code",
   "execution_count": null,
   "id": "25435d8a-3ec6-4c20-bc46-e95d338997ba",
   "metadata": {},
   "outputs": [],
   "source": [
    "# Subset of dinner party items\n",
    "df_prods_dinner_party = df_prods.loc[df_prods['department_id'].isin([5,7,12,20])]"
   ]
  },
  {
   "cell_type": "code",
   "execution_count": null,
   "id": "e4094738-7314-45f0-941f-cab317b9ff09",
   "metadata": {},
   "outputs": [],
   "source": [
    "df_prods_dinner_party.head()"
   ]
  },
  {
   "cell_type": "code",
   "execution_count": null,
   "id": "5d5b7b83-5169-4c2c-a37e-a4abaf82c6cd",
   "metadata": {},
   "outputs": [],
   "source": [
    "# Find the number of rows\n",
    "\n",
    "df_prods_dinner_party.shape"
   ]
  },
  {
   "cell_type": "code",
   "execution_count": null,
   "id": "d2926865-7276-4064-98b2-2596b805cbcc",
   "metadata": {},
   "outputs": [],
   "source": [
    "# Extracting info on user_id 1\n",
    "\n",
    "df_user1 = df_ords_wrangled.loc[df_ords['user_id'] == 1]"
   ]
  },
  {
   "cell_type": "code",
   "execution_count": null,
   "id": "2306a4c1-cf67-44f2-945a-a04d82c6bb9b",
   "metadata": {},
   "outputs": [],
   "source": [
    "df_user1"
   ]
  },
  {
   "cell_type": "code",
   "execution_count": null,
   "id": "558763cd-91a2-460f-a326-fe997b7983a5",
   "metadata": {},
   "outputs": [],
   "source": [
    "df_user1.describe()"
   ]
  },
  {
   "cell_type": "markdown",
   "id": "fad62f81-a9b9-4ddb-ab73-9b0226e1feae",
   "metadata": {},
   "source": [
    "##### Observations: \n",
    "1. Places at least 1 order a month\n",
    "2. Max order of 11\n",
    "3. Only places orders from Sunday to Wednesday (1-4)\n",
    "4. Usually orders around 10am"
   ]
  },
  {
   "cell_type": "markdown",
   "id": "b5382264-b540-4f99-8880-fbc4697414b9",
   "metadata": {},
   "source": [
    "##### Summary: "
   ]
  },
  {
   "cell_type": "markdown",
   "id": "006aab2e-129f-4e43-9afc-8a46ac9a6303",
   "metadata": {
    "jp-MarkdownHeadingCollapsed": true
   },
   "source": [
    "1. Removed \"eval_set\" column\n",
    "2. Renamed \"order_dow\" column\n",
    "3. Renamed \"order_number\" column\n",
    "4. Change order_id and user_id dtypes\n",
    "5. Transposed df_dep\n",
    "6. df_ords shape 3,421,083 rows and 7 columns\n",
    "7. df_prods shape 49,693 rows and 5 columns\n",
    "8. df_ords_wrangled shape 3,421,063 rows and 6 columns\n",
    "9. df_dep shape: 1, 22\n",
    "10. df_dep_t_new 22 rows and 1 column"
   ]
  },
  {
   "cell_type": "markdown",
   "id": "d7750f0c-9e88-4974-9429-4e78ba7aa35e",
   "metadata": {},
   "source": [
    "### 07. Exporting"
   ]
  },
  {
   "cell_type": "code",
   "execution_count": null,
   "id": "f5beea70-927f-43e6-ad59-1648c2dfad27",
   "metadata": {},
   "outputs": [],
   "source": [
    "df_ords_wrangled.to_csv(os.path.join(path, 'Data','Prepared Data', 'orders_wrangled.csv'))"
   ]
  },
  {
   "cell_type": "code",
   "execution_count": null,
   "id": "f7e65cf4-4935-4603-b48f-eebd6296d285",
   "metadata": {},
   "outputs": [],
   "source": [
    "df_dep_t_new.to_csv(os.path.join(path, 'Data','Prepared Data', 'departments_wrangled.csv'))"
   ]
  }
 ],
 "metadata": {
  "kernelspec": {
   "display_name": "Python 3 (ipykernel)",
   "language": "python",
   "name": "python3"
  },
  "language_info": {
   "codemirror_mode": {
    "name": "ipython",
    "version": 3
   },
   "file_extension": ".py",
   "mimetype": "text/x-python",
   "name": "python",
   "nbconvert_exporter": "python",
   "pygments_lexer": "ipython3",
   "version": "3.12.7"
  }
 },
 "nbformat": 4,
 "nbformat_minor": 5
}
