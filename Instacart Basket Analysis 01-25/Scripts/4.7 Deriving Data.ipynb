{
 "cells": [
  {
   "cell_type": "markdown",
   "id": "1040393b-f76a-41f5-a883-39c27c15f1c7",
   "metadata": {},
   "source": [
    "# 4.7 Deriving New Variables"
   ]
  },
  {
   "cell_type": "markdown",
   "id": "e0bf2b47-f8fe-4c21-88f3-60464c999c23",
   "metadata": {},
   "source": [
    "### Points in this script:\n",
    "\n",
    "##### 1. Imports\n",
    "##### 2. Creating a Subset of Data\n",
    "##### 3. Deriving a new Variable\n",
    "##### 4. Using loc()\n",
    "##### 5. For-Loop\n",
    "##### 6. Changing labels for client\n",
    "##### 7. Calculating busiest hour of day"
   ]
  },
  {
   "cell_type": "markdown",
   "id": "79871522-dc3e-400e-8ca9-0008a590c50c",
   "metadata": {},
   "source": [
    "### 1. Imports"
   ]
  },
  {
   "cell_type": "code",
   "execution_count": null,
   "id": "ddaa8c30-e6a7-4d7a-b116-bc95577f46d9",
   "metadata": {},
   "outputs": [],
   "source": [
    "# Import libraries\n",
    "\n",
    "import pandas as pd\n",
    "import numpy as np\n",
    "import os"
   ]
  },
  {
   "cell_type": "code",
   "execution_count": null,
   "id": "5ba7236b-88ec-4b7f-a569-a39fe7213211",
   "metadata": {},
   "outputs": [],
   "source": [
    "# Import dataframes\n",
    "\n",
    "path = r'C:\\Users\\walls\\Documents\\Coding\\Data Analysis\\CareerFoundry\\Data Immersion A4\\Instacart Basket Analysis 01-25'\n",
    "df_op_merged = pd.read_pickle(os.path.join(path, 'Data' , 'Prepared Data' , 'ords_prods_merged.pkl'))"
   ]
  },
  {
   "cell_type": "code",
   "execution_count": null,
   "id": "c0b0172c-cbe3-4433-a4a1-c3ec81d8fb01",
   "metadata": {},
   "outputs": [],
   "source": [
    "df_op_merged.head()"
   ]
  },
  {
   "cell_type": "code",
   "execution_count": null,
   "id": "b734cade-67f3-4464-a409-53ba5e939f9b",
   "metadata": {},
   "outputs": [],
   "source": [
    "df_op_merged.shape"
   ]
  },
  {
   "cell_type": "markdown",
   "id": "6364b235-d0f4-4fa0-9172-93af9f08744a",
   "metadata": {},
   "source": [
    "### 2. Create Subset"
   ]
  },
  {
   "cell_type": "code",
   "execution_count": null,
   "id": "1d424a23-6ff6-4a70-b0a0-95a8f235f3f8",
   "metadata": {},
   "outputs": [],
   "source": [
    "# Create a subset\n",
    "\n",
    "df_opm_subset = df_op_merged[:1000000]"
   ]
  },
  {
   "cell_type": "code",
   "execution_count": null,
   "id": "5bc75d8d-c8b3-4c39-bb68-263f776bfd1e",
   "metadata": {},
   "outputs": [],
   "source": [
    "df_opm_subset.shape"
   ]
  },
  {
   "cell_type": "code",
   "execution_count": null,
   "id": "33bbdd75-e561-43b4-b610-b94295e44a94",
   "metadata": {},
   "outputs": [],
   "source": [
    "df_opm_subset.head()"
   ]
  },
  {
   "cell_type": "markdown",
   "id": "7cba1ca4-f5f6-4af7-abcd-2df72539150a",
   "metadata": {},
   "source": [
    "### 3. Deriving New Variable"
   ]
  },
  {
   "cell_type": "code",
   "execution_count": null,
   "id": "b5cc0fbc-c898-4587-8814-6bb28d162e98",
   "metadata": {},
   "outputs": [],
   "source": [
    "# Create function called price_label that applies string label to every row\n",
    "\n",
    "def price_label(row):\n",
    "\n",
    "  if row['prices'] <= 5:\n",
    "    return 'Low-range product'\n",
    "  elif (row['prices'] > 5) and (row['prices'] <= 15):\n",
    "    return 'Mid-range product'\n",
    "  elif row['prices'] > 15:\n",
    "    return 'High range'\n",
    "  else: return 'Not enough data'"
   ]
  },
  {
   "cell_type": "code",
   "execution_count": null,
   "id": "d8f9ef10-4195-4678-8ecf-1562ee97d502",
   "metadata": {},
   "outputs": [],
   "source": [
    "# Create new column for function output\n",
    "\n",
    "df_opm_subset['price_range'] = df_opm_subset.apply(price_label, axis=1)"
   ]
  },
  {
   "cell_type": "code",
   "execution_count": null,
   "id": "6762e9a2-2eb8-4ee5-b697-5fee437523d2",
   "metadata": {},
   "outputs": [],
   "source": [
    "df_opm_subset['price_range'].value_counts(dropna = False)"
   ]
  },
  {
   "cell_type": "code",
   "execution_count": null,
   "id": "441f2de0-061d-489c-a92a-eb636f0989e6",
   "metadata": {},
   "outputs": [],
   "source": [
    "# Most expensive product\n",
    "\n",
    "df_opm_subset['prices'].max()"
   ]
  },
  {
   "cell_type": "markdown",
   "id": "9ce63a45-5246-4d31-b6cf-dfc168e3cd4a",
   "metadata": {},
   "source": [
    "##### Observations: \n",
    "1. The max value seems too high. Further investigation needed."
   ]
  },
  {
   "cell_type": "markdown",
   "id": "abb77521-aed0-4b92-afd8-e374c6d4a6e4",
   "metadata": {},
   "source": [
    "### 4. Using loc()"
   ]
  },
  {
   "cell_type": "code",
   "execution_count": null,
   "id": "a1fb82d4-b89d-4024-ad8c-bed7477c2895",
   "metadata": {
    "scrolled": true
   },
   "outputs": [],
   "source": [
    "df_op_merged.loc[df_op_merged['prices'] > 15, 'price_range_loc'] = 'High-range product'"
   ]
  },
  {
   "cell_type": "code",
   "execution_count": null,
   "id": "f7d72191-bab4-41da-b8c1-fc39574525d7",
   "metadata": {},
   "outputs": [],
   "source": [
    "df_op_merged.loc[(df_op_merged['prices'] <= 15) & (df_opm_subset['prices'] > 5), 'price_range_loc'] = 'Mid-range product'"
   ]
  },
  {
   "cell_type": "code",
   "execution_count": null,
   "id": "8be2e06d-6f19-4ee0-a8c1-f1b349d35d09",
   "metadata": {},
   "outputs": [],
   "source": [
    "df_op_merged.loc[df_op_merged['prices'] <= 5, 'price_range_loc'] = 'Low-range product'"
   ]
  },
  {
   "cell_type": "code",
   "execution_count": null,
   "id": "558ffb1f-ce03-4ecb-8d79-80123d4758e4",
   "metadata": {},
   "outputs": [],
   "source": [
    "df_op_merged['price_range_loc'].value_counts()"
   ]
  },
  {
   "cell_type": "markdown",
   "id": "a859bec1-c1de-4679-bde2-4512145e02b0",
   "metadata": {},
   "source": [
    "##### Observations:\n",
    "1. Most customers seem to prefer to shop with budget friendly/low prices\n",
    "2. Fewer customers shop higher priced products. "
   ]
  },
  {
   "cell_type": "markdown",
   "id": "06cadbe4-2322-469d-81d2-28b831dc92d3",
   "metadata": {},
   "source": [
    "### 5. For loop"
   ]
  },
  {
   "cell_type": "code",
   "execution_count": null,
   "id": "df38ca11-46d8-4f5d-987c-b4682b25edc7",
   "metadata": {},
   "outputs": [],
   "source": [
    "# Finding frequency of weekly orders\n",
    "\n",
    "df_op_merged['orders_day_of_week'].value_counts(dropna = False)"
   ]
  },
  {
   "cell_type": "markdown",
   "id": "42281a50-4cee-4050-8de7-6bf891cee621",
   "metadata": {},
   "source": [
    "##### Observations: \n",
    "1. Sunday and Monday have the highest number of orders.\n",
    "2. Friday and Saturday have the lowest number of orders."
   ]
  },
  {
   "cell_type": "code",
   "execution_count": null,
   "id": "3ebad00f-a56e-44b9-b992-7e8aa8206942",
   "metadata": {},
   "outputs": [],
   "source": [
    "# New row for busyness\n",
    "\n",
    "result = []\n",
    "\n",
    "for value in df_op_merged[\"orders_day_of_week\"]:\n",
    "  if value == 0:\n",
    "    result.append(\"Busiest day\")\n",
    "  elif value == 4:\n",
    "    result.append(\"Least busy\")\n",
    "  else:\n",
    "    result.append(\"Regularly busy\")"
   ]
  },
  {
   "cell_type": "code",
   "execution_count": null,
   "id": "1f258a8d-333c-4895-bbfa-5577574cb8c4",
   "metadata": {},
   "outputs": [],
   "source": [
    "result"
   ]
  },
  {
   "cell_type": "code",
   "execution_count": null,
   "id": "fde792c1-2f05-49a9-98ef-188b071a90c8",
   "metadata": {},
   "outputs": [],
   "source": [
    "# New column to combine df and result\n",
    "\n",
    "df_op_merged['busiest_day'] = result"
   ]
  },
  {
   "cell_type": "code",
   "execution_count": null,
   "id": "62fa8210-f3f4-4627-8826-d2bb33d3a1f8",
   "metadata": {},
   "outputs": [],
   "source": [
    "df_op_merged['busiest_day'].value_counts(dropna = False)"
   ]
  },
  {
   "cell_type": "markdown",
   "id": "59b6621a-6df0-43dc-9a79-209b99d02344",
   "metadata": {},
   "source": [
    "### 6. Client Changes for Labels"
   ]
  },
  {
   "cell_type": "code",
   "execution_count": null,
   "id": "f69804b9-1ae0-4f4d-a2ff-b7575cfc0306",
   "metadata": {},
   "outputs": [],
   "source": [
    "# Changing row for busyness\n",
    "\n",
    "result = []\n",
    "\n",
    "for value in df_op_merged[\"orders_day_of_week\"]:\n",
    "  if value <= 1:\n",
    "    result.append(\"Busiest days\")\n",
    "  elif value == 3 or 4:\n",
    "    result.append(\"Slowest days\")\n",
    "  else:\n",
    "    result.append(\"Regularly busy\")"
   ]
  },
  {
   "cell_type": "code",
   "execution_count": null,
   "id": "ecbe74f5-b248-4c1a-8c5d-369aba398344",
   "metadata": {},
   "outputs": [],
   "source": [
    "df_op_merged['busiest_day'].value_counts(dropna = False)"
   ]
  },
  {
   "cell_type": "markdown",
   "id": "2424f34f-15c4-4079-b2fc-6e16f9ed0876",
   "metadata": {},
   "source": [
    "#### Observations:\n",
    "1. Regularly busy value_count decreased while Busiest days and Slowest days increased in totals.\n",
    "2. Since these two rows now consist of two variables, it makes sense that they are greater in number."
   ]
  },
  {
   "cell_type": "markdown",
   "id": "ffaa8fe1-0042-40d0-988a-777efbda1660",
   "metadata": {},
   "source": [
    "### 7. Busiest Hour of Day"
   ]
  },
  {
   "cell_type": "code",
   "execution_count": null,
   "id": "52f68c93-5365-4616-9a5c-f2f194af660c",
   "metadata": {},
   "outputs": [],
   "source": [
    "# Create subset \n",
    "\n",
    "busiest_hour_of_day = df_op_merged['order_hour_of_day'].value_counts()"
   ]
  },
  {
   "cell_type": "code",
   "execution_count": null,
   "id": "66855d0e-5601-4bf8-a993-387c1b666dc3",
   "metadata": {},
   "outputs": [],
   "source": [
    "# Getting stats for order_hour_of_day \n",
    "\n",
    "busiest_hour_of_day.describe()"
   ]
  },
  {
   "cell_type": "code",
   "execution_count": null,
   "id": "fb81626e-49be-4801-ae62-457467fa9c3a",
   "metadata": {},
   "outputs": [],
   "source": [
    "# Getting frequency of order_hour_of_day\n",
    "\n",
    "df_op_merged['order_hour_of_day'].value_counts()"
   ]
  },
  {
   "cell_type": "code",
   "execution_count": null,
   "id": "8e1bf57b-b778-457f-9572-595392cd94d1",
   "metadata": {},
   "outputs": [],
   "source": [
    "# Create df.loc() to assign labels for order_hour_of_day\n",
    "\n",
    "df_op_merged.loc[df_op_merged['order_hour_of_day'].between(8, 18), 'busiest_period_of_day'] = 'Most orders'"
   ]
  },
  {
   "cell_type": "code",
   "execution_count": null,
   "id": "568c515e-de7c-4cba-94f4-b55291aa4dfa",
   "metadata": {},
   "outputs": [],
   "source": [
    "df_op_merged.loc[df_op_merged['order_hour_of_day'] == 19, 'busiest_period_of_day'] = 'Average orders'"
   ]
  },
  {
   "cell_type": "code",
   "execution_count": null,
   "id": "0c5243c9-8323-4cf7-8ef8-e9de3053530f",
   "metadata": {},
   "outputs": [],
   "source": [
    "df_op_merged.loc[(df_op_merged['order_hour_of_day'].between(0, 7)) | (df_op_merged['order_hour_of_day'].between(20, 23)), 'busiest_period_of_day'\n",
    "] = 'Fewest orders'"
   ]
  },
  {
   "cell_type": "code",
   "execution_count": null,
   "id": "1259c21c-26d6-4dfc-a491-6ad0f80294cd",
   "metadata": {},
   "outputs": [],
   "source": [
    "# Check frequency\n",
    "\n",
    "df_op_merged['busiest_period_of_day'].value_counts()"
   ]
  },
  {
   "cell_type": "code",
   "execution_count": null,
   "id": "ee9a00b3-74d7-41a0-aac8-8b0ed7c5e7fe",
   "metadata": {},
   "outputs": [],
   "source": [
    "df_op_merged.shape"
   ]
  },
  {
   "cell_type": "code",
   "execution_count": null,
   "id": "61a84951-2883-419a-bf31-e60976f5ff74",
   "metadata": {
    "scrolled": true
   },
   "outputs": [],
   "source": [
    "df_op_merged.head()"
   ]
  },
  {
   "cell_type": "markdown",
   "id": "6940840b-4d99-49e6-b191-6b4ea48af058",
   "metadata": {},
   "source": [
    "##### Summary\n",
    "1. 3 new columns added to df_op_merged -- price_range_loc, busiest_day, and busiest_period_of_day\n",
    "2. df_op_merged shape (32404859, 17)"
   ]
  },
  {
   "cell_type": "markdown",
   "id": "eba8d0b1-75e3-4f81-a391-3d871aeecc17",
   "metadata": {},
   "source": [
    "### 8. Exports"
   ]
  },
  {
   "cell_type": "code",
   "execution_count": null,
   "id": "5957f4f4-80a5-4c96-8cc8-306027373d9a",
   "metadata": {},
   "outputs": [],
   "source": [
    "# Export file as pkl\n",
    "\n",
    "df_op_merged.to_pickle(os.path.join(path, 'Data', 'Prepared Data', 'orders_products_merged_derived.pkl'))"
   ]
  }
 ],
 "metadata": {
  "kernelspec": {
   "display_name": "Python 3 (ipykernel)",
   "language": "python",
   "name": "python3"
  },
  "language_info": {
   "codemirror_mode": {
    "name": "ipython",
    "version": 3
   },
   "file_extension": ".py",
   "mimetype": "text/x-python",
   "name": "python",
   "nbconvert_exporter": "python",
   "pygments_lexer": "ipython3",
   "version": "3.12.7"
  }
 },
 "nbformat": 4,
 "nbformat_minor": 5
}
