{
 "cells": [
  {
   "cell_type": "markdown",
   "id": "cdaa1127-dee3-4b99-86d9-60cf474c4970",
   "metadata": {},
   "source": [
    "# 01. Importing libraries"
   ]
  },
  {
   "cell_type": "code",
   "execution_count": null,
   "id": "05608284-e582-429f-9968-47f30ad39c38",
   "metadata": {},
   "outputs": [],
   "source": [
    "# Import libraries\n",
    "\n",
    "import pandas as pd\n",
    "import numpy as np\n",
    "import os"
   ]
  },
  {
   "cell_type": "code",
   "execution_count": null,
   "id": "8593dee6-55b8-454e-a121-c5515e18c7b5",
   "metadata": {},
   "outputs": [],
   "source": [
    "x = 2"
   ]
  },
  {
   "cell_type": "code",
   "execution_count": null,
   "id": "b80ccc30-0199-436b-803a-a7fdc1de9306",
   "metadata": {},
   "outputs": [],
   "source": [
    "x"
   ]
  },
  {
   "cell_type": "code",
   "execution_count": null,
   "id": "e69229f0-1620-45d6-b71f-698f183e1fc1",
   "metadata": {},
   "outputs": [],
   "source": [
    "print(x)"
   ]
  },
  {
   "cell_type": "code",
   "execution_count": null,
   "id": "5b764197-b06f-4144-ac89-eb06fb7cfce7",
   "metadata": {},
   "outputs": [],
   "source": [
    "type(x)"
   ]
  },
  {
   "cell_type": "code",
   "execution_count": null,
   "id": "1cd22eb2-8161-4af5-a361-7e6f8b21c148",
   "metadata": {},
   "outputs": [],
   "source": [
    "y = 5.678"
   ]
  },
  {
   "cell_type": "code",
   "execution_count": null,
   "id": "912bc15d-7a0b-49b4-8c10-2b821d3c2c08",
   "metadata": {},
   "outputs": [],
   "source": [
    "type(y)"
   ]
  },
  {
   "cell_type": "code",
   "execution_count": null,
   "id": "48313144-90c2-4027-bf4a-8ad67d3a843a",
   "metadata": {},
   "outputs": [],
   "source": [
    "z = 'Brazil'"
   ]
  },
  {
   "cell_type": "code",
   "execution_count": null,
   "id": "84e4ad29-d358-4dbd-8c84-77992f3e5241",
   "metadata": {},
   "outputs": [],
   "source": [
    "type(z)"
   ]
  },
  {
   "cell_type": "code",
   "execution_count": null,
   "id": "4328af1f-696f-4439-94f0-8532b6dcefbd",
   "metadata": {},
   "outputs": [],
   "source": [
    "type('Mania')"
   ]
  },
  {
   "cell_type": "code",
   "execution_count": null,
   "id": "f73dda78-2dc3-4937-8c22-3e3b0fd3a3b1",
   "metadata": {},
   "outputs": [],
   "source": [
    "type(True)"
   ]
  },
  {
   "cell_type": "code",
   "execution_count": null,
   "id": "dafda055-ffea-44af-aa2c-f9e6fcc919c4",
   "metadata": {},
   "outputs": [],
   "source": [
    "type(False)"
   ]
  },
  {
   "cell_type": "code",
   "execution_count": null,
   "id": "09db622d-29ae-4ac3-96d6-5a0f676e89a9",
   "metadata": {},
   "outputs": [],
   "source": [
    "print(x)"
   ]
  },
  {
   "cell_type": "code",
   "execution_count": null,
   "id": "20cba166-949f-4d70-8c85-aefb896c1858",
   "metadata": {},
   "outputs": [],
   "source": [
    "x + 4"
   ]
  },
  {
   "cell_type": "code",
   "execution_count": null,
   "id": "8d883b96-4f50-4c93-862b-33575d1f01b0",
   "metadata": {},
   "outputs": [],
   "source": [
    "x + y"
   ]
  },
  {
   "cell_type": "code",
   "execution_count": null,
   "id": "e4843b65-319b-4553-a161-0f7426bb8727",
   "metadata": {},
   "outputs": [],
   "source": [
    "x = x + 4"
   ]
  },
  {
   "cell_type": "code",
   "execution_count": null,
   "id": "b53fa67a-1d93-42c6-8cb6-be576bc00327",
   "metadata": {},
   "outputs": [],
   "source": [
    "print(x)"
   ]
  },
  {
   "cell_type": "code",
   "execution_count": null,
   "id": "09450f23-77c1-4309-b7da-fbf81075d47e",
   "metadata": {},
   "outputs": [],
   "source": [
    "a = 'Hello, '"
   ]
  },
  {
   "cell_type": "code",
   "execution_count": null,
   "id": "e5b9d8c5-a026-456f-90b8-b2fffe236430",
   "metadata": {},
   "outputs": [],
   "source": [
    "b = 'Marley'"
   ]
  },
  {
   "cell_type": "code",
   "execution_count": null,
   "id": "258b913b-096e-46d0-9b18-70cb93d5e3ca",
   "metadata": {},
   "outputs": [],
   "source": [
    "a + b"
   ]
  },
  {
   "cell_type": "code",
   "execution_count": null,
   "id": "dc23997b-e15f-40f8-9394-feeadcff0e61",
   "metadata": {},
   "outputs": [],
   "source": [
    "n = 'potato'"
   ]
  },
  {
   "cell_type": "code",
   "execution_count": null,
   "id": "129e185f-0221-4d48-ab0e-60e3f32bca9d",
   "metadata": {},
   "outputs": [],
   "source": [
    "n * 12"
   ]
  },
  {
   "cell_type": "code",
   "execution_count": null,
   "id": "80af4c33-8be8-4455-9c9d-44c362705c1c",
   "metadata": {},
   "outputs": [],
   "source": [
    "x == y"
   ]
  },
  {
   "cell_type": "code",
   "execution_count": null,
   "id": "8a273eb3-f0bc-41e1-9805-04fe5c405d76",
   "metadata": {},
   "outputs": [],
   "source": [
    "type(x == y)"
   ]
  },
  {
   "cell_type": "markdown",
   "id": "9d4da95d-0ce4-4f1f-a8ee-f3fc38e01c0b",
   "metadata": {},
   "source": [
    "# 03.Exercise 4.2 Additional Tasks"
   ]
  },
  {
   "cell_type": "code",
   "execution_count": null,
   "id": "ebb10f22-c28b-4246-9bf6-6732dc652f15",
   "metadata": {},
   "outputs": [],
   "source": [
    "x + 94"
   ]
  },
  {
   "cell_type": "code",
   "execution_count": null,
   "id": "be438185-3947-4225-9631-388d3ebac3e7",
   "metadata": {},
   "outputs": [],
   "source": [
    "x + 100 - 6"
   ]
  },
  {
   "cell_type": "code",
   "execution_count": null,
   "id": "7ed6b79d-7cc6-4cce-818c-9ef9c8147ab1",
   "metadata": {},
   "outputs": [],
   "source": [
    "x * 5 + 70"
   ]
  },
  {
   "cell_type": "code",
   "execution_count": null,
   "id": "8795bdbc-70b0-4fc1-b4bf-732b7b7c32af",
   "metadata": {},
   "outputs": [],
   "source": [
    "e = 3.14"
   ]
  },
  {
   "cell_type": "code",
   "execution_count": null,
   "id": "94bfa395-c3d8-4e28-81bd-1ed6f0f412d7",
   "metadata": {},
   "outputs": [],
   "source": [
    "f = .02"
   ]
  },
  {
   "cell_type": "code",
   "execution_count": null,
   "id": "80ae168f-4c3b-4ba1-a705-48b0471c53b7",
   "metadata": {},
   "outputs": [],
   "source": [
    "e/f"
   ]
  },
  {
   "cell_type": "code",
   "execution_count": null,
   "id": "0d102bfe-cf9d-43c6-9210-80536033d33f",
   "metadata": {},
   "outputs": [],
   "source": [
    "l = 'the chamber of secrets '"
   ]
  },
  {
   "cell_type": "code",
   "execution_count": null,
   "id": "2f439c2a-6be1-4864-9db9-0d2b4c3f637e",
   "metadata": {},
   "outputs": [],
   "source": [
    "m = 'has been opened '"
   ]
  },
  {
   "cell_type": "code",
   "execution_count": null,
   "id": "7ce11416-963a-44f0-b242-9c65e9b84bfa",
   "metadata": {},
   "outputs": [],
   "source": [
    "n = 'enemies of the heir beware'"
   ]
  },
  {
   "cell_type": "code",
   "execution_count": null,
   "id": "6eacb04c-1ff2-40e4-bd8c-57c1cbe5a917",
   "metadata": {},
   "outputs": [],
   "source": [
    "l + m + n"
   ]
  },
  {
   "cell_type": "code",
   "execution_count": null,
   "id": "1acc65e3-4218-43f7-8ad9-e5dbf2728a2d",
   "metadata": {},
   "outputs": [],
   "source": [
    "(l + m + n) * 100"
   ]
  }
 ],
 "metadata": {
  "kernelspec": {
   "display_name": "Python 3 (ipykernel)",
   "language": "python",
   "name": "python3"
  },
  "language_info": {
   "codemirror_mode": {
    "name": "ipython",
    "version": 3
   },
   "file_extension": ".py",
   "mimetype": "text/x-python",
   "name": "python",
   "nbconvert_exporter": "python",
   "pygments_lexer": "ipython3",
   "version": "3.12.7"
  }
 },
 "nbformat": 4,
 "nbformat_minor": 5
}
