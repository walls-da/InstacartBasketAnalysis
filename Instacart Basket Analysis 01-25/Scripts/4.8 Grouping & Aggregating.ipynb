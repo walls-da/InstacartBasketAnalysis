{
 "cells": [
  {
   "cell_type": "markdown",
   "id": "b31e5c74-25b0-4e05-87b7-da7c67ae5b3e",
   "metadata": {},
   "source": [
    "# 4.8: Grouping Data & Aggregating Variables"
   ]
  },
  {
   "cell_type": "markdown",
   "id": "a68be869-6f5d-4da5-aced-6d2bc5b447ae",
   "metadata": {},
   "source": [
    "### Points for this Script\n",
    "1. Imports & Set up\n",
    "2. Grouping Data\n",
    "3. Flagging loyal customers\n",
    "4. Comparing spending habits\n",
    "5. Flagging customer frequency\n",
    "6. Exports"
   ]
  },
  {
   "cell_type": "markdown",
   "id": "f0dc0357-589b-4e24-a2a9-08aa96de98a8",
   "metadata": {},
   "source": [
    "### 1. Imports"
   ]
  },
  {
   "cell_type": "code",
   "execution_count": null,
   "id": "fc0ff5b8-9721-430b-9c6b-89a5cd62a3bc",
   "metadata": {},
   "outputs": [],
   "source": [
    "# Import libraries\n",
    "\n",
    "import pandas as pd\n",
    "import numpy as np\n",
    "import os"
   ]
  },
  {
   "cell_type": "code",
   "execution_count": null,
   "id": "a3defa6e-f19b-4fa4-b294-abe88c47715a",
   "metadata": {},
   "outputs": [],
   "source": [
    "# Import dataframes\n",
    "\n",
    "path = r'C:\\Users\\walls\\Documents\\Coding\\Data Analysis\\CareerFoundry\\Data Immersion A4\\Instacart Basket Analysis 01-25'\n",
    "df_op = pd.read_pickle(os.path.join(path, 'Data','Prepared Data', 'orders_products_merged_derived.pkl'))"
   ]
  },
  {
   "cell_type": "code",
   "execution_count": null,
   "id": "b16c1bba-8c56-4445-81ed-645c86fd9a47",
   "metadata": {},
   "outputs": [],
   "source": [
    "df_op.head()"
   ]
  },
  {
   "cell_type": "code",
   "execution_count": null,
   "id": "5a945d4f-fe28-46ae-836f-bae819452b71",
   "metadata": {},
   "outputs": [],
   "source": [
    "df_op.shape"
   ]
  },
  {
   "cell_type": "markdown",
   "id": "1744728b-4292-4927-92ef-60fe73d48ef0",
   "metadata": {},
   "source": [
    "### 2. Grouping Data"
   ]
  },
  {
   "cell_type": "code",
   "execution_count": null,
   "id": "1e556e00-5766-46c0-83be-f1bea1d702b4",
   "metadata": {},
   "outputs": [],
   "source": [
    "# grouping data by \"department_id\" column with mean aggregate of \"order_number\" column:\n",
    "# the average number of orders per user for each department ID\n",
    "\n",
    "df_op.groupby('department_id').agg({'order_count': ['mean']})"
   ]
  },
  {
   "cell_type": "code",
   "execution_count": null,
   "id": "72ad63b9-4394-4338-af89-06d0889d5629",
   "metadata": {},
   "outputs": [],
   "source": [
    "# Subset of first 1000000 of df_op dataframe\n",
    "\n",
    "df_op_subset = df_op[:1000000]"
   ]
  },
  {
   "cell_type": "code",
   "execution_count": null,
   "id": "9e5a0369-7d46-437d-94db-30e3be2bc124",
   "metadata": {},
   "outputs": [],
   "source": [
    "# Calculating the mean to compare\n",
    "\n",
    "df_op_subset.groupby('department_id').agg({'order_count': ['mean']})"
   ]
  },
  {
   "cell_type": "markdown",
   "id": "dcf72e24-998e-4952-9c5c-30dd6ec6332e",
   "metadata": {},
   "source": [
    "##### Question: How do the results for the entire dataframe differ from those of the subset?\n",
    "\n",
    "##### Many departments have a higher mean in the subset while few have a lower mean in the subset. "
   ]
  },
  {
   "cell_type": "markdown",
   "id": "35d527d6-d0ab-4abd-9959-0ef10a609fcc",
   "metadata": {},
   "source": [
    "### 3. Flagging Customers"
   ]
  },
  {
   "cell_type": "code",
   "execution_count": null,
   "id": "6c77731c-f169-4c1b-843b-860b8e2fa098",
   "metadata": {
    "scrolled": true
   },
   "outputs": [],
   "source": [
    "# creating a new column, max_order, grouping by user_id, and transforming order_count by the max NumPy function\n",
    "\n",
    "df_op['max_order'] = df_op.groupby(['user_id'])['order_count'].transform(np.max)"
   ]
  },
  {
   "cell_type": "code",
   "execution_count": null,
   "id": "70dc92d0-05c9-4d38-9d4f-0b97fe65f427",
   "metadata": {},
   "outputs": [],
   "source": [
    "df_op.head()"
   ]
  },
  {
   "cell_type": "code",
   "execution_count": null,
   "id": "526bbc26-2aed-4f0e-a597-997fc3b71403",
   "metadata": {},
   "outputs": [],
   "source": [
    "# flagging users as loyal, regular, or new based on max orders placed\n",
    "\n",
    "df_op.loc[df_op['max_order'] > 40, 'loyalty_flag'] = 'Loyal customer'\n",
    "df_op.loc[(df_op['max_order'] <= 40) & (df_op['max_order'] > 10), 'loyalty_flag'] = 'Regular customer'\n",
    "df_op.loc[df_op['max_order'] <= 10, 'loyalty_flag'] = 'New customer'"
   ]
  },
  {
   "cell_type": "code",
   "execution_count": null,
   "id": "29e4d18b-f920-4dd5-9806-2d870f9e4610",
   "metadata": {},
   "outputs": [],
   "source": [
    "# Examining Value Counts on 'loyalty_flag'\n",
    "\n",
    "df_op['loyalty_flag'].value_counts(dropna = False)"
   ]
  },
  {
   "cell_type": "markdown",
   "id": "b21279aa-50de-462b-962b-8bdab3c4351e",
   "metadata": {},
   "source": [
    "##### Observations: \n",
    "1. There are more \"regular\" customers than new or loyal -- Could this group also be spending the most money?"
   ]
  },
  {
   "cell_type": "code",
   "execution_count": null,
   "id": "d2106684-17b1-4a0b-955d-987dc4193af1",
   "metadata": {},
   "outputs": [],
   "source": [
    "# Checking the Updated Output\n",
    "df_op.head(15)"
   ]
  },
  {
   "cell_type": "markdown",
   "id": "8dc8e614-1952-4924-b9d4-678653f53ac1",
   "metadata": {},
   "source": [
    "#### Loyalty Flag"
   ]
  },
  {
   "cell_type": "code",
   "execution_count": null,
   "id": "2a4fbf24-878a-44a2-bc9a-af7292da9b01",
   "metadata": {},
   "outputs": [],
   "source": [
    "# Gathering basic stats based on product price\n",
    "\n",
    "df_op.groupby('loyalty_flag')['prices'].describe()"
   ]
  },
  {
   "cell_type": "markdown",
   "id": "f8b0f5cd-ef4c-4bc6-8b51-1e59da41f795",
   "metadata": {},
   "source": [
    "##### Question: Is there a difference between the spending habits of the three types of customers?\n",
    "\n",
    "##### When comparing how purchases from loyal customers differ from those purchased by regular or new customers, there is only a small difference. All customers purchase about the same at the price level. Further investigation is needed to determine why. For example, are new or regular customers receiving a promo to increase purchases, is there no loyalty program currently so loyal customers aren't motivated to purchase beyond their budget, are there any differentiated pricing tools in effect?"
   ]
  },
  {
   "cell_type": "markdown",
   "id": "10b75202-24b7-49f5-a7e9-38b9d45d8610",
   "metadata": {},
   "source": [
    "#### Spending Flag"
   ]
  },
  {
   "cell_type": "code",
   "execution_count": null,
   "id": "1851b8d3-e712-486a-ad09-cf1d83de8d75",
   "metadata": {
    "scrolled": true
   },
   "outputs": [],
   "source": [
    "# Clearly printing out the averge price spent per user_id\n",
    "\n",
    "df_op.groupby('user_id').agg({'prices': ['mean']})"
   ]
  },
  {
   "cell_type": "code",
   "execution_count": null,
   "id": "885223d3-14e4-4aad-97ca-0d9404f1aaa0",
   "metadata": {
    "scrolled": true
   },
   "outputs": [],
   "source": [
    "# Creating a column for avgerage spending price for loyalty groups\n",
    "\n",
    "df_op['avg_price'] = df_op.groupby(['user_id'])['prices'].transform(np.mean)"
   ]
  },
  {
   "cell_type": "code",
   "execution_count": null,
   "id": "a030c17f-e683-486b-9393-b38726829387",
   "metadata": {},
   "outputs": [],
   "source": [
    "# flagging users as low or high spenders based on their average price spent\n",
    "\n",
    "df_op.loc[df_op['avg_price'] < 10, 'spending_flag'] = 'Low spender'\n",
    "df_op.loc[df_op['avg_price'] >= 10, 'spending_flag'] = 'High spender'"
   ]
  },
  {
   "cell_type": "code",
   "execution_count": null,
   "id": "ae839112-6739-4e18-9779-06015fb8aa12",
   "metadata": {},
   "outputs": [],
   "source": [
    "# Examining Value Count on 'spending_flag' Column\n",
    "df_op['spending_flag'].value_counts(dropna = False)"
   ]
  },
  {
   "cell_type": "code",
   "execution_count": null,
   "id": "909074f6-2546-4dab-8c54-791ddca30bf9",
   "metadata": {},
   "outputs": [],
   "source": [
    "df_op['spending_flag'].value_counts(dropna = False)"
   ]
  },
  {
   "cell_type": "markdown",
   "id": "924e16cb-a558-44d9-b0fc-c0cad9d988e2",
   "metadata": {},
   "source": [
    "##### Observations:\n",
    "##### The number of low spenders is more than high spenders. This correlates with the above data on customer spending habits. Most customers stay within a budget for what they purchase. Further investigation is needed to determine if it's related to customer loyalties, promos, etc."
   ]
  },
  {
   "cell_type": "markdown",
   "id": "2d404d63-1de1-48ca-b0ff-5dda48ff501d",
   "metadata": {},
   "source": [
    "### 4. Flagging"
   ]
  },
  {
   "cell_type": "code",
   "execution_count": null,
   "id": "743e4970-5a9b-4a65-b7c8-be0e383baf4a",
   "metadata": {
    "scrolled": true
   },
   "outputs": [],
   "source": [
    "# Creating a column for avgerage spending price for loyalty groups\n",
    "\n",
    "df_op['order_frequency'] = df_op.groupby(['user_id'])['days_since_prior_order'].transform(np.median)"
   ]
  },
  {
   "cell_type": "code",
   "execution_count": null,
   "id": "04fafbc6-677d-442a-af55-e2f9575be1d0",
   "metadata": {
    "scrolled": true
   },
   "outputs": [],
   "source": [
    "df_op['order_frequency'] = df_op.groupby(['user_id'])['days_since_prior_order'].transform(np.median)"
   ]
  },
  {
   "cell_type": "code",
   "execution_count": null,
   "id": "6285f7fa-10d9-4813-a582-bac917dea07a",
   "metadata": {
    "scrolled": true
   },
   "outputs": [],
   "source": [
    "df_op.head()"
   ]
  },
  {
   "cell_type": "code",
   "execution_count": null,
   "id": "038d0e02-ea6b-4ef0-989c-5d506ee9bd07",
   "metadata": {},
   "outputs": [],
   "source": [
    "# flagging users as non-frequent, regular, or frequency based on days_since_prior_order \n",
    "\n",
    "df_op.loc[df_op['order_frequency'] > 20, 'frequency_flag'] = 'Non-frequent customer'\n",
    "df_op.loc[(df_op['order_frequency'] > 10) & (df_op['order_frequency'] <= 20), 'frequency_flag'] = 'Regular customer'\n",
    "df_op.loc[df_op['order_frequency'] <= 10, 'frequency_flag'] = 'Frequent customer'"
   ]
  },
  {
   "cell_type": "code",
   "execution_count": null,
   "id": "d1902294-885e-4c3f-84ca-0318ce733972",
   "metadata": {},
   "outputs": [],
   "source": [
    "df_op['frequency_flag'].value_counts(dropna = False)"
   ]
  },
  {
   "cell_type": "markdown",
   "id": "7593288d-0fcf-482f-a91e-fff45c42bf27",
   "metadata": {},
   "source": [
    "##### Observations: \n",
    "\n",
    "1. Despite purchases at the price level being the same, a fair amount of customers purchase more frequently than others.\n",
    "2. Having loyalty criteria be based on frequency of orders than amount spent may be better for promos and marketing.\n",
    "3. NaN values present"
   ]
  },
  {
   "cell_type": "code",
   "execution_count": null,
   "id": "7cc2e583-4f4b-477a-a902-7279aa9b2f3a",
   "metadata": {},
   "outputs": [],
   "source": [
    "df_op.shape"
   ]
  },
  {
   "cell_type": "markdown",
   "id": "e22e770d-eba9-46af-a78b-d7e6803d6dda",
   "metadata": {},
   "source": [
    "##### Summary\n",
    "1. df_op_merged now df_op\n",
    "2. 7 columns added to df_op -- max_order, loyalty_flag, spending_flag, avg_price, order_frequency, frequency_flag\n",
    "3. df_op shape (32404859, 24)"
   ]
  },
  {
   "cell_type": "markdown",
   "id": "b48991c3-4579-4a96-816f-5d398068a534",
   "metadata": {},
   "source": [
    "### 6. Exports"
   ]
  },
  {
   "cell_type": "code",
   "execution_count": null,
   "id": "03ac836a-7912-45fc-8c90-58bd44cef15b",
   "metadata": {},
   "outputs": [],
   "source": [
    "# Exporting df as a pickle\n",
    "df_op.to_pickle(os.path.join(path, 'Data', 'Prepared Data', 'ords_prods_merge_agg.pkl'))"
   ]
  }
 ],
 "metadata": {
  "kernelspec": {
   "display_name": "Python 3 (ipykernel)",
   "language": "python",
   "name": "python3"
  },
  "language_info": {
   "codemirror_mode": {
    "name": "ipython",
    "version": 3
   },
   "file_extension": ".py",
   "mimetype": "text/x-python",
   "name": "python",
   "nbconvert_exporter": "python",
   "pygments_lexer": "ipython3",
   "version": "3.12.7"
  }
 },
 "nbformat": 4,
 "nbformat_minor": 5
}
