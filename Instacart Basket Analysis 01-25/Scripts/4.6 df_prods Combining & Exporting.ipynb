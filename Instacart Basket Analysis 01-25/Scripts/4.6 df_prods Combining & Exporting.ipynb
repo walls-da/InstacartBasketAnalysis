{
 "cells": [
  {
   "cell_type": "markdown",
   "id": "d1c6e407-8fa8-493b-94ad-e7e0aea244d5",
   "metadata": {},
   "source": [
    "# 4.6: Combining & Exporting Data: df_prods"
   ]
  },
  {
   "cell_type": "markdown",
   "id": "2fe541e4-0a6a-45a0-bf6c-49fd8ec73508",
   "metadata": {},
   "source": [
    "## Points in this script:\n",
    "\n",
    "#### 1. Imports\n",
    "#### 2. Merge Data\n",
    "#### 3. Exports"
   ]
  },
  {
   "cell_type": "markdown",
   "id": "cdd65723-332c-4f1e-ac6e-2aaae74ee511",
   "metadata": {},
   "source": [
    "### 1. Imports "
   ]
  },
  {
   "cell_type": "code",
   "execution_count": null,
   "id": "a9c1fd68-672f-4c8b-b2cd-25f84d0e9103",
   "metadata": {},
   "outputs": [],
   "source": [
    "# Import libraries\n",
    "\n",
    "import pandas as pd\n",
    "import numpy as np\n",
    "import os"
   ]
  },
  {
   "cell_type": "code",
   "execution_count": null,
   "id": "b6c8881b-1a7c-4439-b0c9-f92a09455e65",
   "metadata": {},
   "outputs": [],
   "source": [
    "# Import dataframes\n",
    "\n",
    "path = r'C:\\Users\\walls\\Documents\\Coding\\Data Analysis\\CareerFoundry\\Data Immersion A4\\Instacart Basket Analysis 01-25'\n",
    "df_op_combined = pd.read_pickle(os.path.join(path, 'Data' , 'Prepared Data' , 'orders_products_combined.pkl'))\n",
    "df_prods = pd.read_csv(os.path.join(path, 'Data', 'Prepared Data', 'products_checked.csv'), index_col = 0)"
   ]
  },
  {
   "cell_type": "code",
   "execution_count": null,
   "id": "36abbc28-a763-4e7d-84ce-15ce84f48e67",
   "metadata": {},
   "outputs": [],
   "source": [
    "df_prods.head()"
   ]
  },
  {
   "cell_type": "code",
   "execution_count": null,
   "id": "10f9ef96-615a-4c4b-afd0-a36c7000b82a",
   "metadata": {},
   "outputs": [],
   "source": [
    "df_prods.shape"
   ]
  },
  {
   "cell_type": "code",
   "execution_count": null,
   "id": "315ac6dd-59af-444d-b60f-15387b5fab12",
   "metadata": {},
   "outputs": [],
   "source": [
    "df_op_combined.head()"
   ]
  },
  {
   "cell_type": "code",
   "execution_count": null,
   "id": "0d2f45e6-582a-4788-9e17-438c410dd0a0",
   "metadata": {},
   "outputs": [],
   "source": [
    "df_op_combined.shape"
   ]
  },
  {
   "cell_type": "markdown",
   "id": "ddd8072a-2c8d-4099-b335-efd29b895ef7",
   "metadata": {},
   "source": [
    "### 2. Merging Data"
   ]
  },
  {
   "cell_type": "code",
   "execution_count": null,
   "id": "ae7cb8a0-3489-46e2-b971-aac62591f6e1",
   "metadata": {},
   "outputs": [],
   "source": [
    "# Test merge on 'product_id'\n",
    "\n",
    "pd.merge(df_op_combined, df_prods , on = ['product_id'] , indicator = 'merge')"
   ]
  },
  {
   "cell_type": "code",
   "execution_count": null,
   "id": "f904aa9f-40d3-4be7-aa1d-7f4d84bbc04c",
   "metadata": {},
   "outputs": [],
   "source": [
    "df_op_merged = df_op_combined.merge(df_prods, on = 'product_id', indicator = 'merge')"
   ]
  },
  {
   "cell_type": "code",
   "execution_count": null,
   "id": "81fe5575-0dfc-4345-947d-86d15486b2f9",
   "metadata": {},
   "outputs": [],
   "source": [
    "df_op_merged.head()"
   ]
  },
  {
   "cell_type": "code",
   "execution_count": null,
   "id": "d82bfacb-6ea5-4138-b973-87dd8c0d7fe2",
   "metadata": {},
   "outputs": [],
   "source": [
    "# Removing previously used _merge column\n",
    "\n",
    "df_op_merged = df_op_merged.drop('_merge', axis = 1)"
   ]
  },
  {
   "cell_type": "code",
   "execution_count": null,
   "id": "8dd9ed7a-01a3-4bda-bac6-70fb0fef2b91",
   "metadata": {},
   "outputs": [],
   "source": [
    "df_op_merged.head()"
   ]
  },
  {
   "cell_type": "code",
   "execution_count": null,
   "id": "876a23cc-a698-4a26-a951-72d781d4d247",
   "metadata": {},
   "outputs": [],
   "source": [
    "df_op_merged.shape"
   ]
  },
  {
   "cell_type": "markdown",
   "id": "91215dd5-c564-4679-9e6b-a887178ab79c",
   "metadata": {},
   "source": [
    "##### Summary: \n",
    "1. df_prods_cleaned now df_prods\n",
    "2. df_merged_large now df_op_combined\n",
    "3. df_prods shape (49672, 5)\n",
    "4. df_op_combined shape (32434489, 10)\n",
    "5. df_op_merged created\n",
    "6. df_op_merged shaped (32404859, 14)"
   ]
  },
  {
   "cell_type": "markdown",
   "id": "27373bca-aed1-41f3-8f6a-36a96c12bff8",
   "metadata": {},
   "source": [
    "### 3. Exports"
   ]
  },
  {
   "cell_type": "code",
   "execution_count": null,
   "id": "2d09ad0a-7853-4319-8f08-71ca4613fdf8",
   "metadata": {},
   "outputs": [],
   "source": [
    "# Export file as pkl\n",
    "\n",
    "df_op_merged.to_pickle(os.path.join(path, 'data' , 'Prepared Data' , 'ords_prods_merged.pkl'))"
   ]
  }
 ],
 "metadata": {
  "kernelspec": {
   "display_name": "Python 3 (ipykernel)",
   "language": "python",
   "name": "python3"
  },
  "language_info": {
   "codemirror_mode": {
    "name": "ipython",
    "version": 3
   },
   "file_extension": ".py",
   "mimetype": "text/x-python",
   "name": "python",
   "nbconvert_exporter": "python",
   "pygments_lexer": "ipython3",
   "version": "3.12.7"
  }
 },
 "nbformat": 4,
 "nbformat_minor": 5
}
