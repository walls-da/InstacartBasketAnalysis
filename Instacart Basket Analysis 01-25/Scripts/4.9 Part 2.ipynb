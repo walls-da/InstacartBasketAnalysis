{
 "cells": [
  {
   "cell_type": "markdown",
   "id": "4d5e01b0-9fe4-43cc-a97a-da7b2851ffa0",
   "metadata": {},
   "source": [
    "# 4.9 Part 2"
   ]
  },
  {
   "cell_type": "markdown",
   "id": "d8eeb4d9-5cb5-4143-bdea-e985d302ab27",
   "metadata": {},
   "source": [
    "## Points to this Script:\n",
    "1. Imports\n",
    "2. Sales & Descriptive Findings\n",
    "3. Customer Demographics\n",
    "4. Exports"
   ]
  },
  {
   "cell_type": "markdown",
   "id": "aa6257f4-af18-4d9f-8fc8-3072961b4b59",
   "metadata": {},
   "source": [
    "### 1. Imports"
   ]
  },
  {
   "cell_type": "code",
   "execution_count": null,
   "id": "b7c1d685-3f9d-4bfd-9a5e-68a2176bd6bf",
   "metadata": {},
   "outputs": [],
   "source": [
    "# Importing libraries\n",
    "\n",
    "import pandas as pd\n",
    "import numpy as np\n",
    "import os\n",
    "import matplotlib.pyplot as plt\n",
    "import seaborn as sns\n",
    "import scipy"
   ]
  },
  {
   "cell_type": "code",
   "execution_count": null,
   "id": "ca1b3874-3a25-4a60-b7c1-5d7c383a7339",
   "metadata": {},
   "outputs": [],
   "source": [
    "# Importing data frame\n",
    "\n",
    "path = r'C:\\Users\\walls\\Documents\\Coding\\Data Analysis\\CareerFoundry\\Data Immersion A4\\Instacart Basket Analysis 01-25'\n",
    "df_final = pd.read_pickle(os.path.join(path, 'Data', 'Prepared Data', 'customer_merged.pkl'))"
   ]
  },
  {
   "cell_type": "code",
   "execution_count": null,
   "id": "9257213c-bfe0-439f-be2d-cf72509dd5ba",
   "metadata": {},
   "outputs": [],
   "source": [
    "df_final.head()"
   ]
  },
  {
   "cell_type": "code",
   "execution_count": null,
   "id": "af047e1f-fafa-4ea4-b1e1-f2f6dd77a01d",
   "metadata": {},
   "outputs": [],
   "source": [
    "df_final.shape"
   ]
  },
  {
   "cell_type": "code",
   "execution_count": null,
   "id": "8939ed7c-c176-4e71-9de4-300189eabaee",
   "metadata": {},
   "outputs": [],
   "source": [
    "df_final.info()"
   ]
  },
  {
   "cell_type": "markdown",
   "id": "5d70a090-eb22-4036-905b-1ebf57455999",
   "metadata": {},
   "source": [
    "### 2. Sales & Descriptive Findings"
   ]
  },
  {
   "cell_type": "code",
   "execution_count": null,
   "id": "07385244-2d06-45d2-9f97-2512b4fb145e",
   "metadata": {},
   "outputs": [],
   "source": [
    "df_final['order_hour_of_day'].describe()"
   ]
  },
  {
   "cell_type": "code",
   "execution_count": null,
   "id": "ce11bdc5-9a96-46e8-b005-a000a42c0e9b",
   "metadata": {},
   "outputs": [],
   "source": [
    "# Create a histogram of the “order_hour_of_day” column\n",
    "\n",
    "hour_bar_chart = df_final['order_hour_of_day'].plot.hist(bins = 24, edgecolor='black', linewidth=1)"
   ]
  },
  {
   "cell_type": "markdown",
   "id": "b2b6b044-38b5-47f3-92b2-512e906d8afc",
   "metadata": {},
   "source": [
    "##### Observations:\n",
    "1. Peak hours: 10 & 11am and once again around 2 & 3pm\n",
    "2. Late night (10pm - 1am) are relatively low.\n",
    "3. Evening hours are also low despite correlation to dinner times.\n",
    "4. Lowest hours are in the early morning, 1-5am."
   ]
  },
  {
   "cell_type": "code",
   "execution_count": null,
   "id": "e899b0db-bf5a-4aac-af49-ab79061bf29b",
   "metadata": {},
   "outputs": [],
   "source": [
    "# Create a bar chart from the “loyalty_flag” column\n",
    "\n",
    "loyalty_bar_chart = df_final['loyalty_flag'].value_counts().plot.bar()\n",
    "plt.xticks(rotation=0)"
   ]
  },
  {
   "cell_type": "markdown",
   "id": "4044748d-9936-408d-9e48-6e6ebf7160f9",
   "metadata": {},
   "source": [
    "##### Observations:\n",
    "1. There are more regular customers than loyal and new customers.\n",
    "2. Marketing towards more casual shoppers like regular customers may bring in more loyal customers"
   ]
  },
  {
   "cell_type": "code",
   "execution_count": null,
   "id": "6e72d3eb-e8ea-401d-9555-423f4a151f30",
   "metadata": {},
   "outputs": [],
   "source": [
    "# Creating a sample at 70/30 for expendinture analysis\n",
    "\n",
    "np.random.seed(4)\n",
    "dev = np.random.rand(len(df_final)) <= 0.7"
   ]
  },
  {
   "cell_type": "code",
   "execution_count": null,
   "id": "1d5bc31f-312a-4284-9f5a-28935559dae3",
   "metadata": {},
   "outputs": [],
   "source": [
    "# Store 70% of sample to big\n",
    "\n",
    "big = df_final[dev]"
   ]
  },
  {
   "cell_type": "code",
   "execution_count": null,
   "id": "5694b746-0703-471e-a0c8-7c28a90dcab2",
   "metadata": {},
   "outputs": [],
   "source": [
    "# Store 30% of sample to small\n",
    "\n",
    "small = df_final[~dev]"
   ]
  },
  {
   "cell_type": "code",
   "execution_count": null,
   "id": "041d1563-b58a-4561-bed5-68506bef46cb",
   "metadata": {},
   "outputs": [],
   "source": [
    "# Checking length\n",
    "\n",
    "len(df_final)"
   ]
  },
  {
   "cell_type": "code",
   "execution_count": null,
   "id": "ee06cc03-2215-470d-a1cd-59d9a8ef8f69",
   "metadata": {},
   "outputs": [],
   "source": [
    "len(big) + len(small)"
   ]
  },
  {
   "cell_type": "code",
   "execution_count": null,
   "id": "a708d255-03ae-4a78-8bd5-d32b434d8ef7",
   "metadata": {},
   "outputs": [],
   "source": [
    "# Getting just the columns needed\n",
    "df_sample_set = small[['order_hour_of_day', 'prices']]"
   ]
  },
  {
   "cell_type": "code",
   "execution_count": null,
   "id": "b8e7eef1-239e-48e8-900c-825ece63880a",
   "metadata": {},
   "outputs": [],
   "source": [
    "# Create line chart for order_hour to price difference\n",
    "line = sns.lineplot(data = df_sample_set, x = 'order_hour_of_day',y = 'prices')"
   ]
  },
  {
   "cell_type": "markdown",
   "id": "26d7211c-e4cb-4e10-9f30-effcdf463262",
   "metadata": {},
   "source": [
    "##### Observations:\n",
    "1. Price to hour difference is always fluctuating.\n",
    "2. There is a peak in price at 3 or 4am and around 7 or 8am. Likely to be late night shopping and early shopping for the day.\n",
    "3. Perhaps people are pressed for time and ordering without thinking of price."
   ]
  },
  {
   "cell_type": "markdown",
   "id": "c020c75b-4b79-4d45-8fda-c1bd44c7ea5b",
   "metadata": {},
   "source": [
    "### 3. Customer Demographics"
   ]
  },
  {
   "cell_type": "code",
   "execution_count": null,
   "id": "3dd39843-cb59-41cb-88aa-17cb8d5fd32c",
   "metadata": {},
   "outputs": [],
   "source": [
    "# Getting just the columns needed\n",
    "\n",
    "df_sample_set2 = small[['age', 'num_dependants']]"
   ]
  },
  {
   "cell_type": "code",
   "execution_count": null,
   "id": "dd045606-f137-4cde-977f-9e0912fca1c7",
   "metadata": {},
   "outputs": [],
   "source": [
    "# Creating a line chart exploring the connections between age and number of dependants\n",
    "\n",
    "line_age_deps = sns.lineplot(data = df_sample_set2, x = 'age', y = 'num_dependants')"
   ]
  },
  {
   "cell_type": "markdown",
   "id": "9a1b2b31-f3ab-4356-a289-a4eb00c3b4a0",
   "metadata": {},
   "source": [
    "##### Observations:\n",
    "1. Most have 1 dependant\n",
    "2. No one has 0 dependants using the app\n",
    "3. Older ages such as 60-70 have a higher number of dependants\n",
    "4. 18-19 year olds have the lowest number of dependants"
   ]
  },
  {
   "cell_type": "code",
   "execution_count": null,
   "id": "8500e8b0-65a1-4466-a2f8-45136b050d06",
   "metadata": {},
   "outputs": [],
   "source": [
    "# Create a scatterplot to explore connections between age and (income)\n",
    "age_income_scatterplot = sns.scatterplot(x = 'age', y = 'income',data = df_final)"
   ]
  },
  {
   "cell_type": "markdown",
   "id": "0517bc70-7a48-49b6-8afa-b2d1d10b1d4d",
   "metadata": {},
   "source": [
    "##### Observations: \n",
    "1. Income under 200,000 is consistent for all age groups\n",
    "2. Those aged 40 - 80 are more so between 200K to 300K in income\n",
    "3. Ages 18 - 39 don't have an income over 400K\n",
    "4. A smaller population of those 40 to 80 make 400K to 600K"
   ]
  },
  {
   "cell_type": "markdown",
   "id": "e37a00be-d015-46dd-afbc-b412b15bc018",
   "metadata": {},
   "source": [
    "##### Summary\n",
    "1. df_customer_op_merged now df_final\n",
    "2. df_final shape (32404859, 33)"
   ]
  },
  {
   "cell_type": "markdown",
   "id": "ebde0ed3-512c-45cd-92a7-42cb804a2bbc",
   "metadata": {},
   "source": [
    "### 4. Exports"
   ]
  },
  {
   "cell_type": "code",
   "execution_count": null,
   "id": "94a13057-5ee3-4e8c-bdce-a57881df941e",
   "metadata": {},
   "outputs": [],
   "source": [
    "# Exporting \"order_hour_of_day\" frequency bar chart\n",
    "hour_bar_chart.figure.savefig(os.path.join(path, 'Analysis','Visualizations', 'hour_day_bar.png'))"
   ]
  },
  {
   "cell_type": "code",
   "execution_count": null,
   "id": "b309bb59-e7d4-45f3-920d-e47fa27c03a4",
   "metadata": {},
   "outputs": [],
   "source": [
    "# Exporting bar chart for loyalty flags\n",
    "loyalty_bar_chart.figure.savefig(os.path.join(path, 'Analysis','Visualizations', 'loyalty_bar.png'))"
   ]
  },
  {
   "cell_type": "code",
   "execution_count": null,
   "id": "b3cf6146-3e55-453d-ba79-658d68200664",
   "metadata": {},
   "outputs": [],
   "source": [
    "# Exporting line chart for hour of day and price difference\n",
    "line.figure.savefig(os.path.join(path, 'Analysis','Visualizations', 'hour_day_price.png'))"
   ]
  },
  {
   "cell_type": "code",
   "execution_count": null,
   "id": "a9c87cac-abd8-4a38-b425-a6559873c6fc",
   "metadata": {},
   "outputs": [],
   "source": [
    "# Exporting line chart for age and dependants\n",
    "line_age_deps.figure.savefig(os.path.join(path, 'Analysis','Visualizations', 'age_deps.png'))"
   ]
  },
  {
   "cell_type": "code",
   "execution_count": null,
   "id": "a8fb268b-1735-4dd7-ba44-f1ee5cc4b3c9",
   "metadata": {},
   "outputs": [],
   "source": [
    "# Exporting scatterplot for age and income\n",
    "age_income_scatterplot.figure.savefig(os.path.join(path, 'Analysis', 'Visualizations', 'age_income.png'))"
   ]
  }
 ],
 "metadata": {
  "kernelspec": {
   "display_name": "Python 3 (ipykernel)",
   "language": "python",
   "name": "python3"
  },
  "language_info": {
   "codemirror_mode": {
    "name": "ipython",
    "version": 3
   },
   "file_extension": ".py",
   "mimetype": "text/x-python",
   "name": "python",
   "nbconvert_exporter": "python",
   "pygments_lexer": "ipython3",
   "version": "3.12.7"
  }
 },
 "nbformat": 4,
 "nbformat_minor": 5
}
