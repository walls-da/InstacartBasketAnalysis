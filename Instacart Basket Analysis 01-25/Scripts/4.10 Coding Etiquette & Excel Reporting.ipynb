{
 "cells": [
  {
   "cell_type": "markdown",
   "id": "d01befb4-2395-4f82-a1c5-b76406e2bfc2",
   "metadata": {},
   "source": [
    "# 4.10 Coding Etiquette & Excel Reporting"
   ]
  },
  {
   "cell_type": "markdown",
   "id": "1488459b-6e97-4552-8219-c221e6de3cbf",
   "metadata": {},
   "source": [
    "## Points of this Script\n",
    "1. Imports\n",
    "2. Security Implications\n",
    "3. Regional Segmentation\n",
    "4. Regional Spending Habits\n",
    "5. Customer Activity\n",
    "6. Merge Data\n",
    "7. Department Sales\n",
    "8. Customer Profiles\n",
    "9. Exports"
   ]
  },
  {
   "cell_type": "markdown",
   "id": "40c11610-4583-4623-bcdb-44a189487160",
   "metadata": {},
   "source": [
    "### 1. Imports"
   ]
  },
  {
   "cell_type": "code",
   "execution_count": null,
   "id": "c6628fa1-6db9-4ec7-b6f9-733f65b9d2a6",
   "metadata": {},
   "outputs": [],
   "source": [
    "# Import library\n",
    "\n",
    "import pandas as pd\n",
    "import numpy as np\n",
    "import os\n",
    "import matplotlib.pyplot as plt\n",
    "import seaborn as sns\n",
    "import scipy"
   ]
  },
  {
   "cell_type": "code",
   "execution_count": null,
   "id": "085f3ceb-b40b-40f8-82a4-093aa88afe3d",
   "metadata": {},
   "outputs": [],
   "source": [
    "# Import dataframe\n",
    "\n",
    "path = r'C:\\Users\\walls\\Documents\\Coding\\Data Analysis\\CareerFoundry\\Data Immersion A4\\Instacart Basket Analysis 01-25'\n",
    "df_final = pd.read_pickle(os.path.join(path, 'Data', 'Prepared Data', 'customer_merged.pkl'))"
   ]
  },
  {
   "cell_type": "code",
   "execution_count": null,
   "id": "687ead1f-915d-41ff-a0b4-3a338ad31e7b",
   "metadata": {
    "scrolled": true
   },
   "outputs": [],
   "source": [
    "df_final.head()"
   ]
  },
  {
   "cell_type": "code",
   "execution_count": null,
   "id": "6f60e53d-43e4-4ef5-8429-341fe0a089a7",
   "metadata": {},
   "outputs": [],
   "source": [
    "df_final.shape"
   ]
  },
  {
   "cell_type": "markdown",
   "id": "54f38ba4-7d93-4ffc-b3cb-f4f92ba20686",
   "metadata": {},
   "source": [
    "### 2. Security Implications"
   ]
  },
  {
   "cell_type": "markdown",
   "id": "717bc66b-c55b-4651-920c-cbbc69344da5",
   "metadata": {},
   "source": [
    "##### Consider any security implications that might exist for df_final\n",
    "\n",
    "This data set does contain PII because of its first_name, surname, and state columns that give traceable and personal information about customers.\n",
    "Some of these columns may need to be scrubbed to protect customer privacy."
   ]
  },
  {
   "cell_type": "code",
   "execution_count": null,
   "id": "057cbfa1-b83f-46db-9589-8ec407f42d09",
   "metadata": {},
   "outputs": [],
   "source": [
    "# Removing first_name and surname columns for data privacy\n",
    "df_final.drop(['first_name', 'surname'], axis=1, inplace=True)"
   ]
  },
  {
   "cell_type": "code",
   "execution_count": null,
   "id": "89ed68c1-9d69-4bbe-856e-df3d5e6fdd8b",
   "metadata": {},
   "outputs": [],
   "source": [
    "df_final.head()"
   ]
  },
  {
   "cell_type": "code",
   "execution_count": null,
   "id": "8d3f36f8-1052-4c8f-ae24-317418a1c064",
   "metadata": {},
   "outputs": [],
   "source": [
    "df_final.shape"
   ]
  },
  {
   "cell_type": "markdown",
   "id": "bd836e92-cc1a-4819-a54a-31e4db6ad1c3",
   "metadata": {},
   "source": [
    "### 3. Regional Segmentation"
   ]
  },
  {
   "cell_type": "code",
   "execution_count": null,
   "id": "ee938011-aa6b-4076-adaf-e51f13f7da9b",
   "metadata": {},
   "outputs": [],
   "source": [
    "# Create data dictionary of states and regions\n",
    "\n",
    "region = {\n",
    "    \"Northeast\": ['Maine', 'New Hampshire', 'Vermont', 'Massachusetts', 'Rhode Island', 'Connecticut', 'New York', 'New Jersey', 'Pennsylvania'],\n",
    "    \"Midwest\": ['Wisconsin', 'Michigan', 'Illinois', 'Indiana', 'Ohio', 'North Dakota', 'South Dakota', 'Nebraska', 'Kansas', 'Minnesota', 'Iowa', 'Missouri'],\n",
    "    \"South\": ['Delaware', 'Maryland', 'District of Columbia', 'Virginia', 'West Virginia', 'North Carolina', 'South Carolina', 'Georgia', 'Florida', 'Kentucky', 'Tennessee', 'Mississippi', 'Alabama', 'Oklahoma', 'Texas', 'Arkansas', 'Louisiana'],\n",
    "    \"West\": ['Idaho', 'Montana', 'Wyoming', 'Nevada', 'Utah', 'Colorado', 'Arizona', 'New Mexico', 'Alaska', 'Washington', 'Oregon', 'California', 'Hawaii']\n",
    "}"
   ]
  },
  {
   "cell_type": "code",
   "execution_count": null,
   "id": "400a3743-b683-46d1-9e20-dbcc2abf1137",
   "metadata": {},
   "outputs": [],
   "source": [
    "# Create if-statement with for-loop to assign state regions and create 'region' column\n",
    "\n",
    "for region, states in region.items():\n",
    "    df_final.loc[df_final['state'].isin(states), 'region'] = region"
   ]
  },
  {
   "cell_type": "code",
   "execution_count": null,
   "id": "f49a9ba9-7c4f-480d-b219-7a514c6b1a0d",
   "metadata": {},
   "outputs": [],
   "source": [
    "df_final.head()"
   ]
  },
  {
   "cell_type": "code",
   "execution_count": null,
   "id": "8d065a7f-3d8c-43bf-ba78-10f13bc80191",
   "metadata": {},
   "outputs": [],
   "source": [
    "df_final.shape"
   ]
  },
  {
   "cell_type": "code",
   "execution_count": null,
   "id": "9a0ea699-d0fc-4d71-a9f7-3a49ddaa9264",
   "metadata": {},
   "outputs": [],
   "source": [
    "df_final['region'].value_counts()"
   ]
  },
  {
   "cell_type": "code",
   "execution_count": null,
   "id": "e4434598-7fa8-4e79-a834-7d96bf3861fc",
   "metadata": {},
   "outputs": [],
   "source": [
    "# Check for missing values\n",
    "\n",
    "df_final['region'].isnull().sum()"
   ]
  },
  {
   "cell_type": "markdown",
   "id": "1061f830-71e3-4a9a-ac59-b20f5b15107b",
   "metadata": {},
   "source": [
    "##### Observations:\n",
    "1. region column created\n",
    "2. states labeled with a region title\n",
    "3. no missing values"
   ]
  },
  {
   "cell_type": "markdown",
   "id": "b7e5593b-10fe-49f1-97ff-a710e662dd90",
   "metadata": {},
   "source": [
    "### 4. Regional Spending Habits"
   ]
  },
  {
   "cell_type": "code",
   "execution_count": null,
   "id": "7d4aa93b-ae99-475a-9ed0-31d176d6fa8f",
   "metadata": {},
   "outputs": [],
   "source": [
    "# Crosstab Region to spending flag\n",
    "crosstab = pd.crosstab(df_final['region'], df_final['spending_flag'], dropna = False)"
   ]
  },
  {
   "cell_type": "code",
   "execution_count": null,
   "id": "e928af03-6ea5-488e-adab-6cfd27d8747d",
   "metadata": {},
   "outputs": [],
   "source": [
    "crosstab.to_clipboard()"
   ]
  },
  {
   "cell_type": "code",
   "execution_count": null,
   "id": "bdbac276-0c22-4881-a894-396b4db6f477",
   "metadata": {},
   "outputs": [],
   "source": [
    "sorted_crosstab = crosstab.sort_values(by=crosstab.columns.tolist(), ascending=False)"
   ]
  },
  {
   "cell_type": "code",
   "execution_count": null,
   "id": "9bc19d28-f629-4a7d-bb0c-a64c48e722f3",
   "metadata": {},
   "outputs": [],
   "source": [
    "# Create bar chart of crosstab table\n",
    "\n",
    "region_spending_bar = sorted_crosstab.plot(kind='bar')\n",
    "plt.title('Regional Spending Habits')\n",
    "plt.xlabel('Region')\n",
    "plt.ylabel('Spending Amount')\n",
    "plt.ylim(100000, 12000000)\n",
    "plt.xticks(rotation=0)"
   ]
  },
  {
   "cell_type": "code",
   "execution_count": null,
   "id": "7fde40c4-00ff-4c68-8f44-210d79bd9e8c",
   "metadata": {},
   "outputs": [],
   "source": [
    "# Export region chart\n",
    "region_spending_bar.figure.savefig(os.path.join(path, 'Analysis','Visualizations', 'region_spending_bar.png'))"
   ]
  },
  {
   "cell_type": "markdown",
   "id": "a5a41053-e0e6-47dc-a7e7-e50e2ba16398",
   "metadata": {},
   "source": [
    "##### Observations\n",
    "1. Low-spender far out-weigh high-spenders\n",
    "2. Southern region has the highest low and high spenders\n",
    "3. Northeast has the lowest low and high spenders"
   ]
  },
  {
   "cell_type": "markdown",
   "id": "981951fd-88a3-4590-a9dc-af273a02f9b7",
   "metadata": {},
   "source": [
    "### 5. Customer Activity"
   ]
  },
  {
   "cell_type": "code",
   "execution_count": null,
   "id": "e58f1551-75e0-4b21-b16c-cee909a41211",
   "metadata": {},
   "outputs": [],
   "source": [
    "# Create exclusion_flag based on activity level\n",
    "\n",
    "df_final.loc[df_final['max_order'] < 5, 'exclusion_flag'] = 'Low activity'\n",
    "df_final.loc[df_final['max_order'] > 5, 'exclusion_flag'] = 'High activity'"
   ]
  },
  {
   "cell_type": "code",
   "execution_count": null,
   "id": "64196653-0218-4eb4-ab5d-211e3b11151b",
   "metadata": {},
   "outputs": [],
   "source": [
    "df_final['exclusion_flag'].value_counts(dropna = False)"
   ]
  },
  {
   "cell_type": "markdown",
   "id": "0d2b743d-c926-4be4-8d81-4f736e5670bc",
   "metadata": {},
   "source": [
    "##### Observations: \n",
    "1. More users are placing 5 or more orders than not"
   ]
  },
  {
   "cell_type": "code",
   "execution_count": null,
   "id": "86aa80dd-e6c0-4f37-9741-ba17c9b09dda",
   "metadata": {},
   "outputs": [],
   "source": [
    "df_final.head()"
   ]
  },
  {
   "cell_type": "code",
   "execution_count": null,
   "id": "1abd1851-9fc2-4346-8169-8d0e5da2162f",
   "metadata": {
    "jupyter": {
     "source_hidden": true
    }
   },
   "outputs": [],
   "source": [
    "df_final.shape"
   ]
  },
  {
   "cell_type": "code",
   "execution_count": null,
   "id": "70460ee1-d0dd-483a-bec2-dffd9391acbd",
   "metadata": {
    "jupyter": {
     "source_hidden": true
    }
   },
   "outputs": [],
   "source": [
    "# Remove low activity customers \n",
    "\n",
    "df_final_exclusion = df_final[df_final['exclusion_flag']== 'High activity']"
   ]
  },
  {
   "cell_type": "code",
   "execution_count": null,
   "id": "c7e4fdff-2ea4-43f5-b353-ff5ee20ca663",
   "metadata": {
    "scrolled": true
   },
   "outputs": [],
   "source": [
    "df_final_exclusion.head()"
   ]
  },
  {
   "cell_type": "code",
   "execution_count": null,
   "id": "26e09245-2c64-4d77-9c62-810045ebfde8",
   "metadata": {},
   "outputs": [],
   "source": [
    "df_final_exclusion.shape"
   ]
  },
  {
   "cell_type": "code",
   "execution_count": null,
   "id": "21efedac-dbe4-4fe9-a39f-c2d9b4fdd580",
   "metadata": {},
   "outputs": [],
   "source": [
    "df_final_exclusion['exclusion_flag'].value_counts(dropna = False)"
   ]
  },
  {
   "cell_type": "code",
   "execution_count": null,
   "id": "40a01f21-a980-4afc-aad2-d8a33de86faa",
   "metadata": {},
   "outputs": [],
   "source": [
    "# Export new df\n",
    "\n",
    "df_final_exclusion.to_pickle(os.path.join(path, 'Data','Prepared Data', 'low_activity_excluded.pkl'))"
   ]
  },
  {
   "cell_type": "markdown",
   "id": "0673883d-312a-4403-9678-bf26a3abab5d",
   "metadata": {
    "jp-MarkdownHeadingCollapsed": true
   },
   "source": [
    "### 6. Merge Data"
   ]
  },
  {
   "cell_type": "code",
   "execution_count": null,
   "id": "c27410e6-dbd5-4c30-ad20-a7d835451ee6",
   "metadata": {},
   "outputs": [],
   "source": [
    "# Import new df\n",
    "\n",
    "df_dep = pd.read_csv(os.path.join(path, 'Data', 'Prepared Data', 'departments_wrangled.csv'), index_col = False)"
   ]
  },
  {
   "cell_type": "code",
   "execution_count": null,
   "id": "b9b35bc8-aa39-44a3-84a9-5fae0f0b5a49",
   "metadata": {},
   "outputs": [],
   "source": [
    "df_dep.head()"
   ]
  },
  {
   "cell_type": "code",
   "execution_count": null,
   "id": "45ba77a8-20a5-4480-b67b-857a3fabff9b",
   "metadata": {},
   "outputs": [],
   "source": [
    "df_final_exclusion.columns"
   ]
  },
  {
   "cell_type": "code",
   "execution_count": null,
   "id": "45c7dc2a-7d3d-4c7b-9a36-b9bc2dddf1b4",
   "metadata": {},
   "outputs": [],
   "source": [
    "df_dep.columns"
   ]
  },
  {
   "cell_type": "code",
   "execution_count": null,
   "id": "a19ef942-254b-4a43-8342-3f2ed73cd988",
   "metadata": {},
   "outputs": [],
   "source": [
    "df_final_exclusion['department_id'].dtype"
   ]
  },
  {
   "cell_type": "code",
   "execution_count": null,
   "id": "3c619142-9f19-4a5b-b1f1-041a025f7063",
   "metadata": {},
   "outputs": [],
   "source": [
    "df_dep['department_id'].dtype"
   ]
  },
  {
   "cell_type": "code",
   "execution_count": null,
   "id": "d2c5f7b9-5e25-47e3-aa8b-99696caccc15",
   "metadata": {
    "scrolled": true
   },
   "outputs": [],
   "source": [
    "# Match data types\n",
    "\n",
    "df_dep['department_id'] = df_dep['department_id'].astype('int16')"
   ]
  },
  {
   "cell_type": "code",
   "execution_count": null,
   "id": "61fd6630-70cf-429f-b833-791bea2eb647",
   "metadata": {},
   "outputs": [],
   "source": [
    "# Merge df_final_exclusion with df_dep\n",
    "\n",
    "df_final_merged = df_final_exclusion.merge(df_dep, on='department_id', indicator='merged') "
   ]
  },
  {
   "cell_type": "code",
   "execution_count": null,
   "id": "f1351384-5414-4d80-a9ed-ee8705584681",
   "metadata": {},
   "outputs": [],
   "source": [
    "df_final_merged.head()"
   ]
  },
  {
   "cell_type": "code",
   "execution_count": null,
   "id": "706262d3-4569-4b9d-8643-01f4b2d3d279",
   "metadata": {},
   "outputs": [],
   "source": [
    "df_final_merged.shape"
   ]
  },
  {
   "cell_type": "markdown",
   "id": "600b45c2-f71f-405e-bb3b-a7ac8ea1a8a3",
   "metadata": {
    "jp-MarkdownHeadingCollapsed": true
   },
   "source": [
    "### 7. Department Sales"
   ]
  },
  {
   "cell_type": "code",
   "execution_count": null,
   "id": "ccca744c-3edd-449e-8278-758ff7ca1fad",
   "metadata": {
    "scrolled": true
   },
   "outputs": [],
   "source": [
    "# Create bar chart of prods orderd\n",
    "\n",
    "dep_bar = df_final_merged['department'].value_counts(ascending=True).plot(kind='barh', color='blue', xlabel = 'Order Amount', ylabel = 'Department', title='Deparatment Orders', edgecolor='black', linewidth=1)"
   ]
  },
  {
   "cell_type": "markdown",
   "id": "c9727a71-0cd7-4b2f-ab4b-b1a5b9b5b41c",
   "metadata": {},
   "source": [
    "##### Observations: \n",
    "1. Produce, dairy/eggs, and snacks are the top selling deparatments\n",
    "2. Bulk, other, and pet items are the lowest selling departments"
   ]
  },
  {
   "cell_type": "code",
   "execution_count": null,
   "id": "bbf4ed0d-f93b-4b06-b3a2-210f4b310d18",
   "metadata": {},
   "outputs": [],
   "source": [
    "# Export bar chart\n",
    "\n",
    "dep_bar.figure.savefig(os.path.join(path, 'Analysis','Visualizations', 'dep_amounts.png'))"
   ]
  },
  {
   "cell_type": "markdown",
   "id": "867e719e-db63-4cc3-a864-47203ded8c3f",
   "metadata": {},
   "source": [
    "### 8. Customer Profiles"
   ]
  },
  {
   "cell_type": "code",
   "execution_count": null,
   "id": "b61a271b-61b0-4e04-b0d7-805470c1737f",
   "metadata": {},
   "outputs": [],
   "source": [
    "# Create subset for age, income, department, marriage status, region, and dependants based profiles\n",
    "\n",
    "df_profiles = df_final_merged[['age', 'income', 'marriage_status', 'region', 'num_dependants', 'department', 'product_name', 'loyalty_flag', 'spending_flag', 'frequency_flag', 'orders_day_of_week', 'order_hour_of_day']]"
   ]
  },
  {
   "cell_type": "code",
   "execution_count": null,
   "id": "8d8dfcf8-258d-4d00-89d7-ac9c9cfd095c",
   "metadata": {},
   "outputs": [],
   "source": [
    "df_profiles.head()"
   ]
  },
  {
   "cell_type": "code",
   "execution_count": null,
   "id": "eeac8ae7-d8b8-4253-95d5-237cc3a2db96",
   "metadata": {
    "jupyter": {
     "source_hidden": true
    }
   },
   "outputs": [],
   "source": [
    "# Find min and max age\n",
    "\n",
    "df_profiles['age'].agg(['min', 'max'])"
   ]
  },
  {
   "cell_type": "code",
   "execution_count": null,
   "id": "b3236ee1-3230-40df-9fc6-dbd5cfbd782d",
   "metadata": {
    "jupyter": {
     "source_hidden": true
    },
    "scrolled": true
   },
   "outputs": [],
   "source": [
    "# Create flag for age range: young adult, adult, middle aged, elderly\n",
    "\n",
    "df_profiles.loc[(df_profiles['age'] >= 18) & (df_profiles['age'] <= 25), 'age_range'] = 'Young adult'\n",
    "df_profiles.loc[(df_profiles['age'] >= 26) & (df_profiles['age'] <= 39), 'age_range'] = 'Adult'\n",
    "df_profiles.loc[(df_profiles['age'] >= 40) & (df_profiles['age'] <= 54), 'age_range'] = 'Middle Aged'\n",
    "df_profiles.loc[df_profiles['age'] >= 55, 'age_range'] = 'Elderly'"
   ]
  },
  {
   "cell_type": "code",
   "execution_count": null,
   "id": "245dd7a5-9824-489f-88e7-ed70689d0bb7",
   "metadata": {
    "scrolled": true
   },
   "outputs": [],
   "source": [
    "df_profiles.head()"
   ]
  },
  {
   "cell_type": "code",
   "execution_count": null,
   "id": "556e8413-23e9-4980-8bbe-cf59e73bd620",
   "metadata": {
    "scrolled": true
   },
   "outputs": [],
   "source": [
    "df_profiles['age_range'].value_counts()"
   ]
  },
  {
   "cell_type": "markdown",
   "id": "b9f9876f-c916-4406-a6bb-3cb461a8d33c",
   "metadata": {},
   "source": [
    "##### Observations:\n",
    "1. There are more elderly customers (55 and over)\n",
    "2. Young adults are using IC the least (18 - 25)"
   ]
  },
  {
   "cell_type": "code",
   "execution_count": null,
   "id": "4a133ac0-87ff-484e-89b1-5adee9b54fb2",
   "metadata": {
    "scrolled": true
   },
   "outputs": [],
   "source": [
    "df_profiles.groupby('age_range')['income'].mean()"
   ]
  },
  {
   "cell_type": "markdown",
   "id": "dceb31ce-6aaf-49ed-87ea-c1685e5efde3",
   "metadata": {},
   "source": [
    "##### Observations: \n",
    "1. Elderly make the most income\n",
    "2. Adults make the least amount of income"
   ]
  },
  {
   "cell_type": "code",
   "execution_count": null,
   "id": "18bc31e3-b9ef-447c-978f-c30393c42824",
   "metadata": {
    "scrolled": true
   },
   "outputs": [],
   "source": [
    "df_profiles.groupby('age_range')['region'].value_counts()"
   ]
  },
  {
   "cell_type": "code",
   "execution_count": null,
   "id": "88f13610-0d81-4cc0-a0be-ca6133e33631",
   "metadata": {},
   "outputs": [],
   "source": [
    "df_profiles.groupby('region')['age_range'].value_counts()"
   ]
  },
  {
   "cell_type": "code",
   "execution_count": null,
   "id": "a513126c-58b8-451a-ab1e-c0632089477d",
   "metadata": {
    "scrolled": true
   },
   "outputs": [],
   "source": [
    "df_profiles.groupby('age_range')['frequency_flag'].value_counts()"
   ]
  },
  {
   "cell_type": "code",
   "execution_count": null,
   "id": "7e20fc4b-7f83-4b21-a69f-4016a0673c3e",
   "metadata": {
    "scrolled": true
   },
   "outputs": [],
   "source": [
    "df_profiles.groupby('age_range')['loyalty_flag'].value_counts()"
   ]
  },
  {
   "cell_type": "code",
   "execution_count": null,
   "id": "90687381-8ee2-4211-a27e-f983390088ed",
   "metadata": {
    "jupyter": {
     "source_hidden": true
    },
    "scrolled": true
   },
   "outputs": [],
   "source": [
    "# Create bar of age to loyalty\n",
    "\n",
    "age_loyalty = df_profiles.groupby('loyalty_flag')['age_range'].value_counts().unstack()\n",
    "ax = age_loyalty.plot(kind='bar', stacked=True)\n",
    "\n",
    "plt.title('Loyalty Distribution by Age Range')\n",
    "plt.xticks(rotation=0)\n",
    "plt.ylabel('Customer Count')\n",
    "plt.legend(title='Age Range', bbox_to_anchor=(1.05, 1), loc='upper left')\n",
    "plt.tight_layout()"
   ]
  },
  {
   "cell_type": "code",
   "execution_count": null,
   "id": "b9f31c85-70ec-4021-97bd-a1bf4a41095b",
   "metadata": {},
   "outputs": [],
   "source": [
    "fig = ax.get_figure()"
   ]
  },
  {
   "cell_type": "code",
   "execution_count": null,
   "id": "39ddf263-bf90-4d45-8dbd-58be55f3a0ec",
   "metadata": {
    "jupyter": {
     "source_hidden": true
    }
   },
   "outputs": [],
   "source": [
    "# Export age_loyalty chart\n",
    "\n",
    "fig.savefig(os.path.join(path, 'Analysis', 'Visualizations','age_loyalty.png'), dpi=300, bbox_inches='tight')"
   ]
  },
  {
   "cell_type": "code",
   "execution_count": null,
   "id": "6f0c56a7-34ca-4168-959c-55dcfd5e35df",
   "metadata": {},
   "outputs": [],
   "source": [
    "df_profiles.groupby('age_range')['spending_flag'].value_counts()"
   ]
  },
  {
   "cell_type": "code",
   "execution_count": null,
   "id": "7dec0d7b-eda6-4064-8a02-3dae13da01bc",
   "metadata": {},
   "outputs": [],
   "source": [
    "popular_prod = df_profiles.groupby('age_range')['product_name'].value_counts().groupby(level=0).nlargest(5).reset_index(level=1, drop=True)"
   ]
  },
  {
   "cell_type": "code",
   "execution_count": null,
   "id": "e916905c-f4f6-4747-8cec-a8767ba7e6b6",
   "metadata": {
    "scrolled": true
   },
   "outputs": [],
   "source": [
    "popular_prod"
   ]
  },
  {
   "cell_type": "code",
   "execution_count": null,
   "id": "0920633a-3d6a-4cc4-9ad6-ca46557dfdbe",
   "metadata": {},
   "outputs": [],
   "source": [
    "# Create crosstab of popular_prod\n",
    "crosstab_top_prod = popular_prod.reset_index().pivot(index='age_range', columns='product_name')"
   ]
  },
  {
   "cell_type": "code",
   "execution_count": null,
   "id": "4ed58eb2-1627-44de-adbf-a01b2874fb81",
   "metadata": {},
   "outputs": [],
   "source": [
    "crosstab_top_prod.to_clipboard()"
   ]
  },
  {
   "cell_type": "code",
   "execution_count": null,
   "id": "095190e2-250b-428b-a1a2-6f8e2cb55444",
   "metadata": {},
   "outputs": [],
   "source": [
    "fig, ax = plt.subplots(figsize=(12, 6))\n",
    "top_prods_bar = crosstab_top_prod.plot(kind='bar', color=['red', 'orange', 'yellow', 'green', 'blue'], ax=ax)\n",
    "plt.title('Top Products by Age')\n",
    "plt.xlabel(' ')\n",
    "plt.ylabel('Product Count')\n",
    "plt.xticks(rotation=0)\n",
    "plt.legend(['Organic Bananas', 'Banana', 'Organic Baby Spinach', 'Organic Hass Avocado', 'Organic Strawberries'], title='Products', bbox_to_anchor=(1.05, 1), loc='upper left')"
   ]
  },
  {
   "cell_type": "code",
   "execution_count": null,
   "id": "6b1f889b-4c49-4534-83ba-d583c74fe6e8",
   "metadata": {},
   "outputs": [],
   "source": [
    "# Export top prod chart \n",
    "\n",
    "fig.savefig(os.path.join(path, 'Analysis', 'Visualizations', 'top_prods_bar.png'), dpi=300, bbox_inches='tight')"
   ]
  },
  {
   "cell_type": "code",
   "execution_count": null,
   "id": "93e0ec89-1942-46b6-949c-b4075b799f8b",
   "metadata": {},
   "outputs": [],
   "source": [
    "# Create scatterplot for age and income \n",
    "\n",
    "age_income_scatterplot = sns.scatterplot(x='age', y='income', hue='age_range', data=df_profiles)\n",
    "plt.title('Age vs Income')\n",
    "plt.xlabel('Age')\n",
    "plt.ylabel('Income')\n",
    "plt.legend(title='Age', loc='upper left')"
   ]
  },
  {
   "cell_type": "code",
   "execution_count": null,
   "id": "2dfd88f6-8276-43e2-9593-9cfdce9a4f36",
   "metadata": {
    "scrolled": true
   },
   "outputs": [],
   "source": [
    "# Exporting scatterplot for age and income\n",
    "\n",
    "age_income_scatterplot.figure.savefig(os.path.join(path, 'Analysis', 'Visualizations', 'age_income2.png'))"
   ]
  },
  {
   "cell_type": "code",
   "execution_count": null,
   "id": "e54a6104-0764-44f3-9f1a-3f8e6d0f3751",
   "metadata": {},
   "outputs": [],
   "source": [
    "df_profiles.groupby('age_range')['num_dependants'].value_counts()"
   ]
  },
  {
   "cell_type": "code",
   "execution_count": null,
   "id": "8d6ff65e-4179-4908-aa08-bfe7aa9435f0",
   "metadata": {
    "scrolled": true
   },
   "outputs": [],
   "source": [
    "# Create bar chart of age to num_dependants\n",
    "\n",
    "fig, ax = plt.subplots(figsize=(12, 6))\n",
    "top_prods_bar = df_profiles.groupby('age_range')['num_dependants'].value_counts().unstack().plot(kind='bar', color=['red', 'orange', 'yellow', 'green'], ax=ax)\n",
    "\n",
    "plt.title('Dependants by Age')\n",
    "plt.xlabel(' ')\n",
    "plt.ylabel('Number of Dependants')\n",
    "plt.xticks(rotation=0)\n",
    "plt.legend(title='Number of Dependants')"
   ]
  },
  {
   "cell_type": "code",
   "execution_count": null,
   "id": "186ffdb2-88b4-405b-8f3e-e86de8997e26",
   "metadata": {},
   "outputs": [],
   "source": [
    "# Export age_dependants chart \n",
    "\n",
    "fig.savefig(os.path.join(path, 'Analysis', 'Visualizations', 'age_dependants.png'), dpi=300, bbox_inches='tight')"
   ]
  },
  {
   "cell_type": "markdown",
   "id": "0d73a4fc-2a57-40cb-90ea-1d9fb6201854",
   "metadata": {},
   "source": [
    "##### Summary\n",
    "1. Removed first_name & surname -- privacy reasons\n",
    "2. New column created -- region from 'states'\n",
    "3. New column created -- exclusion_flag from 'max_order'\n",
    "4. New df created -- df_final_exclusion\n",
    "5. Merge -- df_final_exclusion with df_dep as df_final_merged\n",
    "6. Dtype change -- df_dep['department_id'] dtype changed to int16 to match df_final_exclusion's\n",
    "7. df_final_merged shape (30171424, 35)\n",
    "8. df_final_exclusion shape (30171424, 33)\n",
    "9. df_final shape (32404859, 33)"
   ]
  },
  {
   "cell_type": "markdown",
   "id": "25b7bdf6-d40b-4b95-822b-4a4b9f467553",
   "metadata": {},
   "source": [
    "### Exports"
   ]
  },
  {
   "cell_type": "code",
   "execution_count": null,
   "id": "a55c1147-5876-49b1-b331-05bb0caf7630",
   "metadata": {},
   "outputs": [],
   "source": [
    "# Export df_final_merged \n",
    "\n",
    "\n",
    "df_final_merged.to_pickle(os.path.join(path, 'Data', 'Prepared Data', 'final_merged_exclusion.pkl'))"
   ]
  }
 ],
 "metadata": {
  "kernelspec": {
   "display_name": "Python 3 (ipykernel)",
   "language": "python",
   "name": "python3"
  },
  "language_info": {
   "codemirror_mode": {
    "name": "ipython",
    "version": 3
   },
   "file_extension": ".py",
   "mimetype": "text/x-python",
   "name": "python",
   "nbconvert_exporter": "python",
   "pygments_lexer": "ipython3",
   "version": "3.12.7"
  }
 },
 "nbformat": 4,
 "nbformat_minor": 5
}
